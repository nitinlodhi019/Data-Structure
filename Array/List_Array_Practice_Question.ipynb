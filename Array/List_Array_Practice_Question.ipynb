{
  "nbformat": 4,
  "nbformat_minor": 0,
  "metadata": {
    "colab": {
      "provenance": [],
      "authorship_tag": "ABX9TyNQTDPo/IKr8eIPC/uWLeSa",
      "include_colab_link": true
    },
    "kernelspec": {
      "name": "python3",
      "display_name": "Python 3"
    },
    "language_info": {
      "name": "python"
    }
  },
  "cells": [
    {
      "cell_type": "markdown",
      "metadata": {
        "id": "view-in-github",
        "colab_type": "text"
      },
      "source": [
        "<a href=\"https://colab.research.google.com/github/nitinlodhi019/Data-Structure/blob/main/Array/List_Array_Practice_Question.ipynb\" target=\"_parent\"><img src=\"https://colab.research.google.com/assets/colab-badge.svg\" alt=\"Open In Colab\"/></a>"
      ]
    },
    {
      "cell_type": "markdown",
      "source": [
        "# 1 . Maximum Element in a List.\n"
      ],
      "metadata": {
        "id": "Vnwe89XJgaEw"
      }
    },
    {
      "cell_type": "code",
      "execution_count": null,
      "metadata": {
        "colab": {
          "base_uri": "https://localhost:8080/"
        },
        "id": "uBN9pWvhgVXy",
        "outputId": "e39c1819-8f4c-4a2b-80e5-c4c899630c89"
      },
      "outputs": [
        {
          "output_type": "stream",
          "name": "stdout",
          "text": [
            "Enter the value of List:324 565 989 0 35\n",
            "Maximum element is: 989\n"
          ]
        }
      ],
      "source": [
        "def find_max_element(lst):\n",
        "  max = lst[0]\n",
        "  for i in lst:\n",
        "    if i > max:\n",
        "      max = i\n",
        "  return max\n",
        "\n",
        "lst = list(map(int, input(\"Enter the value of List:\").split()))\n",
        "print(\"Maximum element is:\", find_max_element(lst))"
      ]
    },
    {
      "cell_type": "markdown",
      "source": [
        "# 2 . Sum of Elements in a List\n"
      ],
      "metadata": {
        "id": "zwuHgbvbiDQL"
      }
    },
    {
      "cell_type": "code",
      "source": [
        "def sum_of_elements(lst):\n",
        "  sum = 0\n",
        "  for i in lst:\n",
        "    sum += i\n",
        "  return sum\n",
        "\n",
        "lst = list(map(int, input(\"Enter the value of List:\").split()))\n",
        "print(\"Sum of element is:\", sum_of_elements(lst))"
      ],
      "metadata": {
        "colab": {
          "base_uri": "https://localhost:8080/"
        },
        "id": "3TCqscvlhVi1",
        "outputId": "036a14b4-e18f-4a3b-c1f8-ca651e392683"
      },
      "execution_count": null,
      "outputs": [
        {
          "output_type": "stream",
          "name": "stdout",
          "text": [
            "Enter the value of List:1 2 3 4 5 6\n",
            "Sum of element is: 21\n"
          ]
        }
      ]
    },
    {
      "cell_type": "markdown",
      "source": [
        "# 3 . Palindrome List\n"
      ],
      "metadata": {
        "id": "0uY3Z7Kji1vF"
      }
    },
    {
      "cell_type": "code",
      "source": [
        "def is_palindrome(lst):\n",
        "  if len(lst) == 0:\n",
        "      return False\n",
        "\n",
        "  for i in range(len(lst)//2):\n",
        "    if lst[i] != lst[len(lst)-1-i]:\n",
        "      return False\n",
        "    else:\n",
        "      return True\n",
        "\n",
        "lst = list(map(int, input(\"Enter the value of List:\").split()))\n",
        "is_palindrome(lst)\n"
      ],
      "metadata": {
        "colab": {
          "base_uri": "https://localhost:8080/"
        },
        "id": "JyJpPsaJiT3p",
        "outputId": "6360247a-d8b8-4110-af94-b8dbec4c50d3"
      },
      "execution_count": null,
      "outputs": [
        {
          "name": "stdout",
          "output_type": "stream",
          "text": [
            "Enter the value of List:\n"
          ]
        },
        {
          "output_type": "execute_result",
          "data": {
            "text/plain": [
              "False"
            ]
          },
          "metadata": {},
          "execution_count": 13
        }
      ]
    },
    {
      "cell_type": "code",
      "source": [
        "def is_palindrome(lst):\n",
        "    left = 0\n",
        "    right = len(lst) - 1\n",
        "\n",
        "    while left < right:\n",
        "        if lst[left] != lst[right]:\n",
        "            return False\n",
        "        left += 1\n",
        "        right -= 1\n",
        "\n",
        "    return True\n",
        "\n",
        "lst = list(map(int, input(\"Enter the value of List:\").split()))\n",
        "is_palindrome(lst)"
      ],
      "metadata": {
        "colab": {
          "base_uri": "https://localhost:8080/"
        },
        "id": "He1TrW0wj5TF",
        "outputId": "5d25cad6-76ba-408d-d302-b744a8104a32"
      },
      "execution_count": null,
      "outputs": [
        {
          "name": "stdout",
          "output_type": "stream",
          "text": [
            "Enter the value of List:\n"
          ]
        },
        {
          "output_type": "execute_result",
          "data": {
            "text/plain": [
              "True"
            ]
          },
          "metadata": {},
          "execution_count": 14
        }
      ]
    },
    {
      "cell_type": "markdown",
      "source": [
        "# 4 . Reverse a List"
      ],
      "metadata": {
        "id": "jTsq7_sf8eHO"
      }
    },
    {
      "cell_type": "code",
      "source": [
        "def reverse_list(lst):\n",
        "  x = len(lst)//2\n",
        "  for i in range(x):\n",
        "    lst[i], lst[len(lst)-1-i] = lst[len(lst)-1-i], lst[i]\n",
        "  return lst\n",
        "\n",
        "lst = list(map(int, input(\"Enter the value of List:\").split()))\n",
        "reverse_list(lst)"
      ],
      "metadata": {
        "id": "QBgqYBBYkJHC",
        "colab": {
          "base_uri": "https://localhost:8080/"
        },
        "outputId": "0b189c92-b95e-4a42-baf0-deaf0b919eb4"
      },
      "execution_count": null,
      "outputs": [
        {
          "name": "stdout",
          "output_type": "stream",
          "text": [
            "Enter the value of List:4 9 0 1 5 6\n"
          ]
        },
        {
          "output_type": "execute_result",
          "data": {
            "text/plain": [
              "[6, 5, 1, 0, 9, 4]"
            ]
          },
          "metadata": {},
          "execution_count": 3
        }
      ]
    },
    {
      "cell_type": "markdown",
      "source": [
        "# 5 . Rotate List"
      ],
      "metadata": {
        "id": "QyIIOyXW-E4N"
      }
    },
    {
      "cell_type": "code",
      "source": [
        "def rotate_left(ARR, D):\n",
        "  for i in range(D):\n",
        "    j = 0\n",
        "    while j < (len(ARR) - 1):\n",
        "      ARR[j], ARR[j+1] = ARR[j+1], ARR[j]\n",
        "      j += 1\n",
        "  return ARR\n",
        "\n",
        "ARR = list(map(int, input(\"Enter the value of List:\").split()))\n",
        "D = int(input(\"The no of position: \"))\n",
        "rotate_left(ARR, D)"
      ],
      "metadata": {
        "colab": {
          "base_uri": "https://localhost:8080/"
        },
        "id": "iUISIzdE9I5o",
        "outputId": "299bf8ed-feca-49a7-e50f-cf0ea720c116"
      },
      "execution_count": null,
      "outputs": [
        {
          "name": "stdout",
          "output_type": "stream",
          "text": [
            "Enter the value of List:12 23 5 878 9\n",
            "The no of position: 2\n"
          ]
        },
        {
          "output_type": "execute_result",
          "data": {
            "text/plain": [
              "[5, 878, 9, 12, 23]"
            ]
          },
          "metadata": {},
          "execution_count": 5
        }
      ]
    },
    {
      "cell_type": "markdown",
      "source": [
        "# 6 . Is Array Sorted(Increasing Order)?"
      ],
      "metadata": {
        "id": "oWUvhCtTBhaQ"
      }
    },
    {
      "cell_type": "code",
      "source": [
        "def is_sorted(arr):\n",
        "  for i in range(len(arr)-1):\n",
        "    if arr[i] > arr[i+1]:\n",
        "      return False\n",
        "  return True\n",
        "\n",
        "arr = list(map(int, input(\"Enter the value of List:\").split()))\n",
        "is_sorted(lst)"
      ],
      "metadata": {
        "colab": {
          "base_uri": "https://localhost:8080/"
        },
        "id": "YM8r6vkn---o",
        "outputId": "a9a102b6-e85f-44a7-b4ec-f76831dba85e"
      },
      "execution_count": null,
      "outputs": [
        {
          "name": "stdout",
          "output_type": "stream",
          "text": [
            "Enter the value of List:23 4 23 6 56\n"
          ]
        },
        {
          "output_type": "execute_result",
          "data": {
            "text/plain": [
              "False"
            ]
          },
          "metadata": {},
          "execution_count": 8
        }
      ]
    },
    {
      "cell_type": "markdown",
      "source": [
        "# 7 . Move Zeroes"
      ],
      "metadata": {
        "id": "G1dWyTTNDTwR"
      }
    },
    {
      "cell_type": "code",
      "source": [
        "def move_zeroes(arr):\n",
        "\n",
        "  for i in range(len(arr)):\n",
        "    for j in range(len(arr)):\n",
        "      if arr[j] == 0:\n",
        "        while j < len(arr)-1:\n",
        "          arr[j], arr[j+1] = arr[j+1], arr[j]\n",
        "          j += 1\n",
        "  return arr\n",
        "\n",
        "arr = list(map(int, input(\"Enter Values: \").split()))\n",
        "move_zeroes(arr)"
      ],
      "metadata": {
        "colab": {
          "base_uri": "https://localhost:8080/"
        },
        "id": "2JJXrcC-CmMq",
        "outputId": "da1ece63-b369-4326-8f9b-e2ff2ea8ddc1"
      },
      "execution_count": null,
      "outputs": [
        {
          "name": "stdout",
          "output_type": "stream",
          "text": [
            "Enter Values: 1 0 0 0 3 0 0 0 4 5 6 0 6 7\n"
          ]
        },
        {
          "output_type": "execute_result",
          "data": {
            "text/plain": [
              "[1, 3, 4, 5, 6, 6, 7, 0, 0, 0, 0, 0, 0, 0]"
            ]
          },
          "metadata": {},
          "execution_count": 16
        }
      ]
    },
    {
      "cell_type": "code",
      "source": [
        "def move_zeroes1(arr):\n",
        "    n = len(arr)\n",
        "    non_zero_index = 0\n",
        "    for i in range(n):\n",
        "        if arr[i] != 0:\n",
        "            arr[non_zero_index], arr[i] = arr[i], arr[non_zero_index]\n",
        "            non_zero_index += 1\n",
        "    return arr\n",
        "\n",
        "arr = list(map(int, input(\"Enter Values: \").split()))\n",
        "print(\"Output:\", move_zeroes1(arr))\n"
      ],
      "metadata": {
        "colab": {
          "base_uri": "https://localhost:8080/"
        },
        "id": "uWAy2WfoD7f-",
        "outputId": "7d2aed53-4618-41cc-d228-6cf6fc1b80bf"
      },
      "execution_count": null,
      "outputs": [
        {
          "output_type": "stream",
          "name": "stdout",
          "text": [
            "Enter Values: 1 0 2 0 0 4 0 0 5\n",
            "Output: [1, 2, 4, 5, 0, 0, 0, 0, 0]\n"
          ]
        }
      ]
    },
    {
      "cell_type": "markdown",
      "source": [
        "# 8 . Intersection of two Lists"
      ],
      "metadata": {
        "id": "Y9CfMGlcNhr2"
      }
    },
    {
      "cell_type": "code",
      "source": [
        "def intersection(nums1, nums2):\n",
        "  result = set()\n",
        "  for i in nums1:\n",
        "    if i in nums2:\n",
        "      result.add(i)\n",
        "  return list(result)\n",
        "\n",
        "nums1 = list(map(int, input(\"Enter values for num1: \").split()))\n",
        "nums2 = list(map(int, input(\"Enter values for num2: \").split()))\n",
        "intersection(nums1, nums2)"
      ],
      "metadata": {
        "colab": {
          "base_uri": "https://localhost:8080/"
        },
        "id": "yxC4dRrsKh7k",
        "outputId": "309c8707-14cf-4852-fc2f-bfef2d254a49"
      },
      "execution_count": null,
      "outputs": [
        {
          "name": "stdout",
          "output_type": "stream",
          "text": [
            "Enter values for num1: 2 2\n",
            "Enter values for num2: 2 2\n"
          ]
        },
        {
          "output_type": "execute_result",
          "data": {
            "text/plain": [
              "[2]"
            ]
          },
          "metadata": {},
          "execution_count": 23
        }
      ]
    },
    {
      "cell_type": "markdown",
      "source": [
        "# 9 . Max Consecutive Ones"
      ],
      "metadata": {
        "id": "fKHMcV4nJKG5"
      }
    },
    {
      "cell_type": "code",
      "source": [
        "def find_max_consecutive_ones(nums):\n",
        "    max_count = 0\n",
        "    current_count = 0\n",
        "\n",
        "    for num in nums:\n",
        "        if num == 1:\n",
        "            current_count += 1\n",
        "            max_count = max(max_count, current_count)\n",
        "        else:\n",
        "            current_count = 0\n",
        "\n",
        "    return max_count\n",
        "\n",
        "nums = [1, 0, 1, 1, 0, 1, 1, 1, 1]\n",
        "print(find_max_consecutive_ones(nums))"
      ],
      "metadata": {
        "id": "bD_c36f7Ou8g",
        "colab": {
          "base_uri": "https://localhost:8080/"
        },
        "outputId": "ae1e7c87-f2ae-42e6-dbaf-501479d99b01"
      },
      "execution_count": 5,
      "outputs": [
        {
          "output_type": "stream",
          "name": "stdout",
          "text": [
            "4\n"
          ]
        }
      ]
    },
    {
      "cell_type": "markdown",
      "source": [
        "# 10 . Maximum Subarray Sum"
      ],
      "metadata": {
        "id": "oWz9PhXnQ0od"
      }
    },
    {
      "cell_type": "code",
      "source": [
        "def max_subarray_sum(arr):\n",
        "    if not arr:\n",
        "        return 0\n",
        "\n",
        "    max_sum = float('-inf')\n",
        "    current_sum = 0\n",
        "\n",
        "    for num in arr:\n",
        "        current_sum += num\n",
        "        max_sum = max(max_sum, current_sum)\n",
        "        if current_sum < 0:\n",
        "            current_sum = 0\n",
        "\n",
        "    return max_sum\n",
        "\n",
        "arr = [-2, 1, -3, 4, -1, 2, 1, -5, 4]\n",
        "print(max_subarray_sum(arr))"
      ],
      "metadata": {
        "colab": {
          "base_uri": "https://localhost:8080/"
        },
        "id": "GCYxVIbZLlNX",
        "outputId": "cc5116e7-455e-4be5-a6d0-6f8680c772f1"
      },
      "execution_count": 11,
      "outputs": [
        {
          "output_type": "stream",
          "name": "stdout",
          "text": [
            "6\n"
          ]
        }
      ]
    },
    {
      "cell_type": "markdown",
      "source": [
        "# 11 . Plus One in the Number"
      ],
      "metadata": {
        "id": "rD3ddXyGQi6C"
      }
    },
    {
      "cell_type": "code",
      "source": [
        "def plus_one(digits):\n",
        "    n = len(digits)\n",
        "    for i in range(n - 1, -1, -1):\n",
        "        if digits[i] < 9:\n",
        "            digits[i] += 1\n",
        "            return digits\n",
        "        digits[i] = 0\n",
        "    return [1] + digits\n",
        "\n",
        "print(plus_one([1, 2, 3]))  # Output: [1, 2, 4]\n",
        "print(plus_one([4, 3, 2, 1]))  # Output: [4, 3, 2, 2]\n",
        "print(plus_one([9, 9, 9]))  # Output: [1, 0, 0, 0]\n",
        "print(plus_one([0]))  # Output: [1]\n"
      ],
      "metadata": {
        "colab": {
          "base_uri": "https://localhost:8080/"
        },
        "id": "YYp5YRQEOKrV",
        "outputId": "8b2efaa6-08ea-4614-ed11-aae5a9f17245"
      },
      "execution_count": 12,
      "outputs": [
        {
          "output_type": "stream",
          "name": "stdout",
          "text": [
            "[1, 2, 4]\n",
            "[4, 3, 2, 2]\n",
            "[1, 0, 0, 0]\n",
            "[1]\n"
          ]
        }
      ]
    },
    {
      "cell_type": "markdown",
      "source": [
        "# 12 . Missing Number"
      ],
      "metadata": {
        "id": "F_ShFhOwSGOt"
      }
    },
    {
      "cell_type": "code",
      "source": [
        "def missingNumber(nums):\n",
        "    n = len(nums)\n",
        "    expected_sum = n * (n + 1) // 2\n",
        "    actual_sum = sum(nums)\n",
        "    return expected_sum - actual_sum\n",
        "\n",
        "\n",
        "print(missingNumber([3, 0, 1]))  # Output: 2\n",
        "print(missingNumber([0, 1]))  # Output: 2\n",
        "print(missingNumber([9,6,4,2,3,5,7,0,1]))  # Output: 8\n"
      ],
      "metadata": {
        "id": "XuvHyV01Qvxy"
      },
      "execution_count": null,
      "outputs": []
    }
  ]
}