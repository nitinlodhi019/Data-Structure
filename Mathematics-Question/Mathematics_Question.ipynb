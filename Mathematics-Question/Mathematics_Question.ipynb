{
  "nbformat": 4,
  "nbformat_minor": 0,
  "metadata": {
    "colab": {
      "provenance": [],
      "authorship_tag": "ABX9TyNvpUBalgippRZWQK/wm2rR",
      "include_colab_link": true
    },
    "kernelspec": {
      "name": "python3",
      "display_name": "Python 3"
    },
    "language_info": {
      "name": "python"
    }
  },
  "cells": [
    {
      "cell_type": "markdown",
      "metadata": {
        "id": "view-in-github",
        "colab_type": "text"
      },
      "source": [
        "<a href=\"https://colab.research.google.com/github/nitinlodhi019/Data-Structure/blob/main/Mathematics-Question/Mathematics_Question.ipynb\" target=\"_parent\"><img src=\"https://colab.research.google.com/assets/colab-badge.svg\" alt=\"Open In Colab\"/></a>"
      ]
    },
    {
      "cell_type": "markdown",
      "source": [
        "# 1 . Sum of N Even Natural Numbers"
      ],
      "metadata": {
        "id": "tGyWt55wPtiY"
      }
    },
    {
      "cell_type": "code",
      "execution_count": null,
      "metadata": {
        "colab": {
          "base_uri": "https://localhost:8080/"
        },
        "id": "0KM-ClVuPSWe",
        "outputId": "a746fc89-f2c9-44d3-d088-f3f5f5eac9dd"
      },
      "outputs": [
        {
          "name": "stdout",
          "output_type": "stream",
          "text": [
            "Enter the value of n: 3\n"
          ]
        },
        {
          "output_type": "execute_result",
          "data": {
            "text/plain": [
              "12"
            ]
          },
          "metadata": {},
          "execution_count": 6
        }
      ],
      "source": [
        "def Sum_Even_NaturalNumbers(n):\n",
        "  if n == 0:\n",
        "    return 0\n",
        "\n",
        "  sum = 2\n",
        "  result = 0\n",
        "\n",
        "  for i in range(n):\n",
        "    result += sum\n",
        "    sum += 2\n",
        "\n",
        "  return result\n",
        "\n",
        "n = int(input(\"Enter the value of n: \"))\n",
        "Sum_Even_NaturalNumbers(n)"
      ]
    },
    {
      "cell_type": "markdown",
      "source": [
        "# 2 . Check for Even Number"
      ],
      "metadata": {
        "id": "Hco7GdnxTBfZ"
      }
    },
    {
      "cell_type": "code",
      "source": [
        "def is_even(n):\n",
        "  if n%2 == 0:\n",
        "    return True\n",
        "  else:\n",
        "    return False\n",
        "\n",
        "n = int(input(\"Enter the value of n: \"))\n",
        "is_even(n)"
      ],
      "metadata": {
        "colab": {
          "base_uri": "https://localhost:8080/"
        },
        "id": "7iAuSxztR0Sg",
        "outputId": "96609f13-05b4-4a88-f44d-46ccdc192e53"
      },
      "execution_count": null,
      "outputs": [
        {
          "name": "stdout",
          "output_type": "stream",
          "text": [
            "Enter the value of n: 4\n"
          ]
        },
        {
          "output_type": "execute_result",
          "data": {
            "text/plain": [
              "True"
            ]
          },
          "metadata": {},
          "execution_count": 7
        }
      ]
    },
    {
      "cell_type": "markdown",
      "source": [
        "# 3 . Check for Prime Number"
      ],
      "metadata": {
        "id": "ashrjoroTVYg"
      }
    },
    {
      "cell_type": "code",
      "source": [
        "def is_prime(n):\n",
        "  if n == 1:\n",
        "    return False\n",
        "\n",
        "  if n == 2 or n == 3:\n",
        "    return True\n",
        "\n",
        "  for i in range(2, n):\n",
        "    if n%i == 0:\n",
        "      return False\n",
        "  return True\n",
        "\n",
        "n = int(input(\"Enter the value of n: \"))\n",
        "is_prime(n)"
      ],
      "metadata": {
        "colab": {
          "base_uri": "https://localhost:8080/"
        },
        "id": "8M3xCiB5TMCC",
        "outputId": "e921c6eb-6ca0-4013-c07a-fe0b362b5287"
      },
      "execution_count": null,
      "outputs": [
        {
          "name": "stdout",
          "output_type": "stream",
          "text": [
            "Enter the value of n: 9\n"
          ]
        },
        {
          "output_type": "execute_result",
          "data": {
            "text/plain": [
              "False"
            ]
          },
          "metadata": {},
          "execution_count": 14
        }
      ]
    },
    {
      "cell_type": "markdown",
      "source": [
        "# 4 . Valid Perfect Square"
      ],
      "metadata": {
        "id": "ZvEJzgw4Yg6D"
      }
    },
    {
      "cell_type": "code",
      "source": [
        "def isPerfectSquare(num):\n",
        "    if num < 0:\n",
        "        return False\n",
        "    x = int(num ** 0.5)\n",
        "    return x ** 2 == num\n",
        "\n",
        "n = int(input(\"Enter the value of n: \"))\n",
        "print(isPerfectSquare(n))\n"
      ],
      "metadata": {
        "colab": {
          "base_uri": "https://localhost:8080/"
        },
        "id": "VOtpHWvaUSRA",
        "outputId": "9b9536be-f343-4d10-b2fc-df71e31cef55"
      },
      "execution_count": null,
      "outputs": [
        {
          "output_type": "stream",
          "name": "stdout",
          "text": [
            "Enter the value of n: 1\n",
            "True\n"
          ]
        }
      ]
    },
    {
      "cell_type": "markdown",
      "source": [
        "# 5 . Decimal to Binary"
      ],
      "metadata": {
        "id": "WimdDudOYnTs"
      }
    },
    {
      "cell_type": "code",
      "source": [
        "def int_to_binary(n):\n",
        "  result = bin(n)\n",
        "  if n == 0:\n",
        "    return \"0\"\n",
        "  if n < 0:\n",
        "     return (result[0] + result[3:])\n",
        "  if n > 0:\n",
        "    return result[2:]\n",
        "\n",
        "n = int(input(\"Enter the value of n: \"))\n",
        "int_to_binary(n)"
      ],
      "metadata": {
        "colab": {
          "base_uri": "https://localhost:8080/",
          "height": 52
        },
        "id": "_nzUwn9WXbKy",
        "outputId": "415ec1ab-5bd1-43bf-e379-bd6fcabcb34f"
      },
      "execution_count": null,
      "outputs": [
        {
          "name": "stdout",
          "output_type": "stream",
          "text": [
            "Enter the value of n: 9\n"
          ]
        },
        {
          "output_type": "execute_result",
          "data": {
            "text/plain": [
              "'1001'"
            ],
            "application/vnd.google.colaboratory.intrinsic+json": {
              "type": "string"
            }
          },
          "metadata": {},
          "execution_count": 50
        }
      ]
    },
    {
      "cell_type": "code",
      "source": [
        "def int_to_binary1(n):\n",
        "  return bin(n).replace('0b', '')\n",
        "\n",
        "n = int(input(\"Enter the value of n: \"))\n",
        "int_to_binary1(n)"
      ],
      "metadata": {
        "colab": {
          "base_uri": "https://localhost:8080/",
          "height": 52
        },
        "id": "uumQqk7TZAsM",
        "outputId": "23ec9004-d25e-4ec4-e291-69e6d1cc4f08"
      },
      "execution_count": null,
      "outputs": [
        {
          "name": "stdout",
          "output_type": "stream",
          "text": [
            "Enter the value of n: 0\n"
          ]
        },
        {
          "output_type": "execute_result",
          "data": {
            "text/plain": [
              "'0'"
            ],
            "application/vnd.google.colaboratory.intrinsic+json": {
              "type": "string"
            }
          },
          "metadata": {},
          "execution_count": 52
        }
      ]
    },
    {
      "cell_type": "markdown",
      "source": [
        "# 6 . Binary to Decimal"
      ],
      "metadata": {
        "id": "Vi-_ZQqqcyHz"
      }
    },
    {
      "cell_type": "code",
      "source": [
        "def binary_to_decimal(binary_str):\n",
        "  \"\"\"we are using 2 because base of binary is 2\"\"\"\n",
        "  return int(binary_str, 2)\n",
        "\n",
        "binary_str = input(\"Enter the binary string: \")\n",
        "binary_to_decimal(binary_str)"
      ],
      "metadata": {
        "colab": {
          "base_uri": "https://localhost:8080/"
        },
        "id": "wOwmiBBgcZDw",
        "outputId": "c9c6d67e-bde5-4944-b2d0-3527f80d91ca"
      },
      "execution_count": null,
      "outputs": [
        {
          "name": "stdout",
          "output_type": "stream",
          "text": [
            "Enter the binary string: 101\n"
          ]
        },
        {
          "output_type": "execute_result",
          "data": {
            "text/plain": [
              "5"
            ]
          },
          "metadata": {},
          "execution_count": 56
        }
      ]
    },
    {
      "cell_type": "markdown",
      "source": [
        "# 7 . GCD of Two Numbers\n",
        "\n",
        "**Problem Description:**\n",
        "You are given two integers n and m. Your task is to find the GCD of these two numbers. The GCD is the largest positive integer that divides both numbers without leaving a remainder. Do not use any built-in functions and do not use recursion."
      ],
      "metadata": {
        "id": "-G3JOzcYe5F8"
      }
    },
    {
      "cell_type": "code",
      "source": [
        "def gcd(n, m):\n"
      ],
      "metadata": {
        "id": "3On1uNWwdW3f"
      },
      "execution_count": null,
      "outputs": []
    }
  ]
}