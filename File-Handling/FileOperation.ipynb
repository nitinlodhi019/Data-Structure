{
  "nbformat": 4,
  "nbformat_minor": 0,
  "metadata": {
    "colab": {
      "provenance": [],
      "authorship_tag": "ABX9TyNPsvCcgsFmQBgDezKfchrY",
      "include_colab_link": true
    },
    "kernelspec": {
      "name": "python3",
      "display_name": "Python 3"
    },
    "language_info": {
      "name": "python"
    }
  },
  "cells": [
    {
      "cell_type": "markdown",
      "metadata": {
        "id": "view-in-github",
        "colab_type": "text"
      },
      "source": [
        "<a href=\"https://colab.research.google.com/github/nitinlodhi019/Data-Structure/blob/main/File-Handling/FileOperation.ipynb\" target=\"_parent\"><img src=\"https://colab.research.google.com/assets/colab-badge.svg\" alt=\"Open In Colab\"/></a>"
      ]
    },
    {
      "cell_type": "markdown",
      "source": [
        "**Write and Create a new**"
      ],
      "metadata": {
        "id": "vTq4NYscqj1_"
      }
    },
    {
      "cell_type": "code",
      "source": [
        "with open('example.txt','w') as file:\n",
        "  file.write('Hello!!, My name is Nitin Kumar.')"
      ],
      "metadata": {
        "id": "t5lkG14Yp8Fb"
      },
      "execution_count": 1,
      "outputs": []
    },
    {
      "cell_type": "markdown",
      "source": [
        "**Read the file**"
      ],
      "metadata": {
        "id": "VM9-GMfxqrM2"
      }
    },
    {
      "cell_type": "code",
      "execution_count": 3,
      "metadata": {
        "colab": {
          "base_uri": "https://localhost:8080/"
        },
        "id": "ZN3zmevwoqkX",
        "outputId": "672064fd-dd64-43e8-eda4-4e21ee2c0772"
      },
      "outputs": [
        {
          "output_type": "stream",
          "name": "stdout",
          "text": [
            "Hello!!, My name is Nitin Kumar.\n"
          ]
        }
      ],
      "source": [
        "with open('example.txt','r') as file:\n",
        "  content = file.read()\n",
        "  print(content)"
      ]
    },
    {
      "cell_type": "markdown",
      "source": [
        "**Append to file**"
      ],
      "metadata": {
        "id": "1plHGKhjrFFG"
      }
    },
    {
      "cell_type": "code",
      "source": [
        "with open('example.txt','a') as file:\n",
        "  file.write('\\nI am from Lucknow.\\nI am pursuing B-Tech from BBDU.')"
      ],
      "metadata": {
        "id": "cBGep5ksqw1k"
      },
      "execution_count": 4,
      "outputs": []
    },
    {
      "cell_type": "code",
      "source": [
        "with open('example.txt','r') as file:\n",
        "  content = file.read()\n",
        "  print(content)"
      ],
      "metadata": {
        "colab": {
          "base_uri": "https://localhost:8080/"
        },
        "id": "9yazp4EYrouy",
        "outputId": "2b65c4c0-50a6-4abf-9bd8-9cb162470e0a"
      },
      "execution_count": 5,
      "outputs": [
        {
          "output_type": "stream",
          "name": "stdout",
          "text": [
            "Hello!!, My name is Nitin Kumar.\n",
            "I am from Lucknow.\n",
            "I am pursuing B-Tech from BBDU.\n"
          ]
        }
      ]
    },
    {
      "cell_type": "markdown",
      "source": [
        "**Read file line by line**"
      ],
      "metadata": {
        "id": "eCU0JLZJr6sl"
      }
    },
    {
      "cell_type": "code",
      "source": [
        "with open('example.txt','r') as file:\n",
        "  for line in file:\n",
        "    print(line)"
      ],
      "metadata": {
        "colab": {
          "base_uri": "https://localhost:8080/"
        },
        "id": "uYqqAsjEryio",
        "outputId": "c228e002-e485-437d-9232-e23b77cfc446"
      },
      "execution_count": 6,
      "outputs": [
        {
          "output_type": "stream",
          "name": "stdout",
          "text": [
            "Hello!!, My name is Nitin Kumar.\n",
            "\n",
            "I am from Lucknow.\n",
            "\n",
            "I am pursuing B-Tech from BBDU.\n"
          ]
        }
      ]
    },
    {
      "cell_type": "code",
      "source": [
        "with open('example.txt','r') as file:\n",
        "  for line in file:\n",
        "    print(line.strip())   ##strip() removes the newline charater"
      ],
      "metadata": {
        "colab": {
          "base_uri": "https://localhost:8080/"
        },
        "id": "RxKS077gsORK",
        "outputId": "010ac740-1c28-4f39-cf12-6b90e45ca6b5"
      },
      "execution_count": 8,
      "outputs": [
        {
          "output_type": "stream",
          "name": "stdout",
          "text": [
            "Hello!!, My name is Nitin Kumar.\n",
            "I am from Lucknow.\n",
            "I am pursuing B-Tech from BBDU.\n"
          ]
        }
      ]
    },
    {
      "cell_type": "markdown",
      "source": [
        "**Writing a file(Overwriting)**\n",
        "\n",
        "*whenever we overwrite in a existing file as write mode so it considder as empty file.*"
      ],
      "metadata": {
        "id": "FIATuCntsp6K"
      }
    },
    {
      "cell_type": "code",
      "source": [
        "with open('example.txt','w') as file:\n",
        "  file.write('Namaste!!,  I am Nitin Rajpoot.\\n')\n",
        "  file.write('I am a student.')"
      ],
      "metadata": {
        "id": "OAjUT-hwsVVw"
      },
      "execution_count": 9,
      "outputs": []
    },
    {
      "cell_type": "code",
      "source": [
        "with open('example.txt', 'r') as file:\n",
        "  content = file.read()\n",
        "  print(content)"
      ],
      "metadata": {
        "colab": {
          "base_uri": "https://localhost:8080/"
        },
        "id": "Khc2nLJXtDLa",
        "outputId": "be91014b-d20f-470c-d45a-12c631958e8e"
      },
      "execution_count": 10,
      "outputs": [
        {
          "output_type": "stream",
          "name": "stdout",
          "text": [
            "Namaste!!,  I am Nitin Rajpoot.\n",
            "I am a student.\n"
          ]
        }
      ]
    },
    {
      "cell_type": "markdown",
      "source": [
        "**Writing a lsit of lines to a file**"
      ],
      "metadata": {
        "id": "BwyTNJqutw4i"
      }
    },
    {
      "cell_type": "code",
      "source": [
        "lines = ['I come from a village.\\n','I want to do a job in IT sector\\n']\n",
        "with open('example.txt','a') as file:\n",
        "  file.writelines(lines)"
      ],
      "metadata": {
        "id": "INN61yPNtNam"
      },
      "execution_count": 11,
      "outputs": []
    },
    {
      "cell_type": "code",
      "source": [
        "with open('example.txt','r') as file:\n",
        "  content = file.read()\n",
        "  print(content)"
      ],
      "metadata": {
        "colab": {
          "base_uri": "https://localhost:8080/"
        },
        "id": "9QxorrnAuQT_",
        "outputId": "88d5612f-67e0-4d88-ef49-429f362b7bbf"
      },
      "execution_count": 12,
      "outputs": [
        {
          "output_type": "stream",
          "name": "stdout",
          "text": [
            "Namaste!!,  I am Nitin Rajpoot.\n",
            "I am a student.I come from a village.\n",
            "I want to do a job in IT sector\n",
            "\n"
          ]
        }
      ]
    },
    {
      "cell_type": "markdown",
      "source": [
        "**Binary File**"
      ],
      "metadata": {
        "id": "hLI7Ux9_wb32"
      }
    },
    {
      "cell_type": "code",
      "source": [
        "data = b'\\x00\\x01\\x02\\x03\\x04'\n",
        "with open('example.bin','wb') as file:\n",
        "  file.write(data)"
      ],
      "metadata": {
        "id": "JBSYJdXBuXvi"
      },
      "execution_count": 15,
      "outputs": []
    },
    {
      "cell_type": "code",
      "source": [
        "with open('example.bin','rb') as file:\n",
        "  cot = file.read()\n",
        "  print(cot)"
      ],
      "metadata": {
        "colab": {
          "base_uri": "https://localhost:8080/"
        },
        "id": "IKX23SiCvy1i",
        "outputId": "d89342f2-d01c-4230-efc3-0485fdab7fe7"
      },
      "execution_count": 16,
      "outputs": [
        {
          "output_type": "stream",
          "name": "stdout",
          "text": [
            "b'\\x00\\x01\\x02\\x03\\x04'\n"
          ]
        }
      ]
    },
    {
      "cell_type": "markdown",
      "source": [
        "**Copying a text file**\n",
        "\n",
        "*Read content from a file and write to another file*"
      ],
      "metadata": {
        "id": "vrTwjWCvwoPs"
      }
    },
    {
      "cell_type": "code",
      "source": [
        "with open('example.txt','r') as source_file:\n",
        "  content = source_file.read()\n",
        "\n",
        "with open('destination.txt','w') as destinantion_file:\n",
        "  destinantion_file.write(content)"
      ],
      "metadata": {
        "id": "GUIlT3h9wmoh"
      },
      "execution_count": 17,
      "outputs": []
    },
    {
      "cell_type": "code",
      "source": [
        "with open('example.txt','r') as source_file:\n",
        "  content = source_file.read()\n",
        "  print(content)\n",
        "\n",
        "with open('destination.txt','r') as destinantion_file:\n",
        "  contt = destinantion_file.read()\n",
        "  print(contt)"
      ],
      "metadata": {
        "colab": {
          "base_uri": "https://localhost:8080/"
        },
        "id": "QlLnztWdxT2S",
        "outputId": "a49ec08f-d0e4-4512-e07a-05457847affb"
      },
      "execution_count": 18,
      "outputs": [
        {
          "output_type": "stream",
          "name": "stdout",
          "text": [
            "Namaste!!,  I am Nitin Rajpoot.\n",
            "I am a student.I come from a village.\n",
            "I want to do a job in IT sector\n",
            "\n",
            "Namaste!!,  I am Nitin Rajpoot.\n",
            "I am a student.I come from a village.\n",
            "I want to do a job in IT sector\n",
            "\n"
          ]
        }
      ]
    },
    {
      "cell_type": "markdown",
      "source": [
        "**Writing and then read**\n",
        "\n",
        "*The w+ mode in Python’s open() function allows you to open a file for both reading and writing, while also creating the file if it does not exist. However, it overwrites the existing content of the file.*"
      ],
      "metadata": {
        "id": "2tuUunN2yOoI"
      }
    },
    {
      "cell_type": "code",
      "source": [
        "with  open('new.txt','w+') as file:\n",
        "  file.write('Hello world\\n')\n",
        "  file.write('This is s new line\\n')\n",
        "\n",
        "  ## Move cursor to the beginning of the file to read it\n",
        "  file.seek(0)\n",
        "\n",
        "  content = file.read()\n",
        "  print(content)"
      ],
      "metadata": {
        "colab": {
          "base_uri": "https://localhost:8080/"
        },
        "id": "DzNdNeftxibA",
        "outputId": "e1bd0754-3b90-426d-900a-6d5477de68ac"
      },
      "execution_count": 19,
      "outputs": [
        {
          "output_type": "stream",
          "name": "stdout",
          "text": [
            "Hello world\n",
            "This is s new line\n",
            "\n"
          ]
        }
      ]
    },
    {
      "cell_type": "markdown",
      "source": [
        "# File Path"
      ],
      "metadata": {
        "id": "nvy5yUGd4Rcn"
      }
    },
    {
      "cell_type": "code",
      "source": [
        "import os\n",
        "cwd = os.getcwd()\n",
        "print(f'curreent working directory is {cwd}')"
      ],
      "metadata": {
        "colab": {
          "base_uri": "https://localhost:8080/"
        },
        "id": "esz6nUvdzEEt",
        "outputId": "80df1d7d-fd4f-4ca7-fb08-cb48722808bd"
      },
      "execution_count": 21,
      "outputs": [
        {
          "output_type": "stream",
          "name": "stdout",
          "text": [
            "curreent working directory is /content\n"
          ]
        }
      ]
    },
    {
      "cell_type": "markdown",
      "source": [
        "**Create a new directory**"
      ],
      "metadata": {
        "id": "14UijapD4nU-"
      }
    },
    {
      "cell_type": "code",
      "source": [
        "new_directory = 'package'\n",
        "os.mkdir(new_directory)\n",
        "print(f'directory {new_directory} create')"
      ],
      "metadata": {
        "colab": {
          "base_uri": "https://localhost:8080/"
        },
        "id": "Y3q7hzL34gWC",
        "outputId": "4ccd8773-4a37-4d7a-b6ee-e3d005cf5134"
      },
      "execution_count": 22,
      "outputs": [
        {
          "output_type": "stream",
          "name": "stdout",
          "text": [
            "directory package create\n"
          ]
        }
      ]
    },
    {
      "cell_type": "markdown",
      "source": [
        "**List all the files and directories**"
      ],
      "metadata": {
        "id": "c8QPDKK85BVd"
      }
    },
    {
      "cell_type": "code",
      "source": [
        "items = os.listdir('.')\n",
        "print(items)"
      ],
      "metadata": {
        "colab": {
          "base_uri": "https://localhost:8080/"
        },
        "id": "9OLIvSr347Hu",
        "outputId": "bc6b6bac-204c-4ae8-887f-1901bf5a6878"
      },
      "execution_count": 23,
      "outputs": [
        {
          "output_type": "stream",
          "name": "stdout",
          "text": [
            "['.config', '.ipynb_checkpoints', 'package', 'destination.txt', 'new.txt', 'example.txt', 'example.bin', 'sample_data']\n"
          ]
        }
      ]
    },
    {
      "cell_type": "markdown",
      "source": [
        "**Joining Path**"
      ],
      "metadata": {
        "id": "BH7OY86m5ktv"
      }
    },
    {
      "cell_type": "code",
      "source": [
        "dir_path = 'folder'\n",
        "file_path = 'file.txt'\n",
        "full_path = os.path.join(dir_path,file_path)\n",
        "print(full_path)"
      ],
      "metadata": {
        "colab": {
          "base_uri": "https://localhost:8080/"
        },
        "id": "uyb1Ubmp5QF9",
        "outputId": "a2b9b61c-be27-4f12-95d6-84729253c37c"
      },
      "execution_count": 25,
      "outputs": [
        {
          "output_type": "stream",
          "name": "stdout",
          "text": [
            "folder/file.txt\n"
          ]
        }
      ]
    },
    {
      "cell_type": "code",
      "source": [
        "dir_path = 'folder'\n",
        "file_path = 'file.txt'\n",
        "full_path = os.path.join(os.getcwd(),dir_path,file_path)\n",
        "print(full_path)"
      ],
      "metadata": {
        "colab": {
          "base_uri": "https://localhost:8080/"
        },
        "id": "KI3lyV0t56Sy",
        "outputId": "c481c006-1161-4475-9eb7-980e50a67c35"
      },
      "execution_count": 26,
      "outputs": [
        {
          "output_type": "stream",
          "name": "stdout",
          "text": [
            "/content/folder/file.txt\n"
          ]
        }
      ]
    },
    {
      "cell_type": "markdown",
      "source": [
        "**Chekc the file or directory exist or not**"
      ],
      "metadata": {
        "id": "bkTH7HSN6-py"
      }
    },
    {
      "cell_type": "code",
      "source": [
        "path = 'example1.txt'\n",
        "\n",
        "if os.path.exists(path):\n",
        "  print(f'{path} exists')\n",
        "else:\n",
        "  print(f'{path} does not exist')"
      ],
      "metadata": {
        "colab": {
          "base_uri": "https://localhost:8080/"
        },
        "id": "2r832ouv6F1_",
        "outputId": "eabd1b4f-b819-475f-be22-a0ab83b0ecdf"
      },
      "execution_count": 28,
      "outputs": [
        {
          "output_type": "stream",
          "name": "stdout",
          "text": [
            "example1.txt does not exist\n"
          ]
        }
      ]
    },
    {
      "cell_type": "code",
      "source": [
        "path = 'example.txt'\n",
        "\n",
        "if os.path.isfile(path):\n",
        "  print(f'{path} , is a file')\n",
        "elif os.path.isdir(path):\n",
        "  print(f'{path} , is a directory')\n",
        "else:\n",
        "  print(f'{path} , is neither a file nor a directory')"
      ],
      "metadata": {
        "colab": {
          "base_uri": "https://localhost:8080/"
        },
        "id": "L7ZtgONP6z7f",
        "outputId": "46358042-602a-46c9-f94a-a0ca60759940"
      },
      "execution_count": 30,
      "outputs": [
        {
          "output_type": "stream",
          "name": "stdout",
          "text": [
            "example.txt , is a file\n"
          ]
        }
      ]
    },
    {
      "cell_type": "code",
      "source": [],
      "metadata": {
        "id": "j0T7b-HG7U19"
      },
      "execution_count": null,
      "outputs": []
    }
  ]
}