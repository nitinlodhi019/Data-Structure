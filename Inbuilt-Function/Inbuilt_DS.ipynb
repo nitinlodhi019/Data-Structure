{
  "nbformat": 4,
  "nbformat_minor": 0,
  "metadata": {
    "colab": {
      "provenance": [],
      "authorship_tag": "ABX9TyNNxAaFx2RxN9DLsBHgnzwT",
      "include_colab_link": true
    },
    "kernelspec": {
      "name": "python3",
      "display_name": "Python 3"
    },
    "language_info": {
      "name": "python"
    }
  },
  "cells": [
    {
      "cell_type": "markdown",
      "metadata": {
        "id": "view-in-github",
        "colab_type": "text"
      },
      "source": [
        "<a href=\"https://colab.research.google.com/github/nitinlodhi019/Data-Structure/blob/main/Inbuilt-Function/Inbuilt_DS.ipynb\" target=\"_parent\"><img src=\"https://colab.research.google.com/assets/colab-badge.svg\" alt=\"Open In Colab\"/></a>"
      ]
    },
    {
      "cell_type": "markdown",
      "source": [
        "# 1 . Sum of List Elements"
      ],
      "metadata": {
        "id": "bBGSGTBNj5mH"
      }
    },
    {
      "cell_type": "code",
      "execution_count": null,
      "metadata": {
        "colab": {
          "base_uri": "https://localhost:8080/"
        },
        "id": "f0fWwIIDj0_S",
        "outputId": "6c3a33ea-ef21-4e65-f45b-49025141a19a"
      },
      "outputs": [
        {
          "output_type": "stream",
          "name": "stdout",
          "text": [
            "1 2 3 4 5 7 8\n",
            "List is:  [1, 2, 3, 4, 5, 7, 8]\n",
            "Sum is:  30\n"
          ]
        }
      ],
      "source": [
        "def Sum_of_List_Elements(lis):\n",
        "  #return sum(lis)\n",
        "  sum = 0\n",
        "  for i in range(len(lis)):\n",
        "    sum += lis[i]\n",
        "\n",
        "  return sum\n",
        "\n",
        "lis = list(map(int, input().split()))\n",
        "print('List is: ', lis)\n",
        "print(\"Sum is: \", Sum_of_List_Elements(lis))"
      ]
    },
    {
      "cell_type": "markdown",
      "source": [
        "# 2 . Largest Element in a List"
      ],
      "metadata": {
        "id": "fRtGUDmkmKL5"
      }
    },
    {
      "cell_type": "code",
      "source": [
        "def Largest_Element_ina_List(lis):\n",
        "  #return max(lis)\n",
        "  max = 0\n",
        "  for i in range(1, len(lis)):\n",
        "    if lis[max] < lis[i]:\n",
        "      max = i\n",
        "\n",
        "  return lis[max]\n",
        "\n",
        "lis = list(map(int, input().split()))\n",
        "print('List is: ', lis)\n",
        "print(\"Max is: \", Largest_Element_ina_List(lis))"
      ],
      "metadata": {
        "colab": {
          "base_uri": "https://localhost:8080/"
        },
        "id": "fD6c2nSakVf-",
        "outputId": "efc43f76-491e-4718-a6a8-1f5a02f0fb00"
      },
      "execution_count": null,
      "outputs": [
        {
          "output_type": "stream",
          "name": "stdout",
          "text": [
            "23 32 1 2443 32\n",
            "List is:  [23, 32, 1, 2443, 32]\n",
            "Max is:  2443\n"
          ]
        }
      ]
    },
    {
      "cell_type": "markdown",
      "source": [
        "# 3 . Remove Duplicate in a List"
      ],
      "metadata": {
        "id": "VfEpZSQluNNQ"
      }
    },
    {
      "cell_type": "code",
      "source": [
        "def remove_duplicates(arr):\n",
        "    return list(set(arr))\n",
        "\n",
        "lis = list(map(int, input(\"Enter numbers: \").split()))\n",
        "\n",
        "print('Original List:', lis)\n",
        "print(\"List after removing duplicates:\", remove_duplicates(lis))\n"
      ],
      "metadata": {
        "colab": {
          "base_uri": "https://localhost:8080/"
        },
        "id": "LGVTcejOt7Wp",
        "outputId": "fec8b66b-2b91-4b44-8b1d-efbce25364f1"
      },
      "execution_count": null,
      "outputs": [
        {
          "output_type": "stream",
          "name": "stdout",
          "text": [
            "Enter numbers: 1 2 5 2 1 1 9 8 5 6 3 2\n",
            "Original List: [1, 2, 5, 2, 1, 1, 9, 8, 5, 6, 3, 2]\n",
            "List after removing duplicates: [1, 2, 3, 5, 6, 8, 9]\n"
          ]
        }
      ]
    },
    {
      "cell_type": "code",
      "source": [
        "def remove_duplicates(arr):\n",
        "    result = []\n",
        "    for i in arr:\n",
        "      if i not in result:\n",
        "        result.append(i)\n",
        "\n",
        "    return result\n",
        "\n",
        "lis = list(map(int, input(\"Enter numbers: \").split()))\n",
        "print('Original List:', lis)\n",
        "print(\"List after removing duplicates:\", remove_duplicates(lis))\n"
      ],
      "metadata": {
        "colab": {
          "base_uri": "https://localhost:8080/"
        },
        "id": "Fk0Rk3gFu4jN",
        "outputId": "2c38dc77-b09f-42e4-fbc9-8d0b9dac2f3a"
      },
      "execution_count": null,
      "outputs": [
        {
          "output_type": "stream",
          "name": "stdout",
          "text": [
            "Enter numbers: 1 4  2 7 8 3 7 4 5  1  4 2 6 8 5 2 3 1 1\n",
            "Original List: [1, 4, 2, 7, 8, 3, 7, 4, 5, 1, 4, 2, 6, 8, 5, 2, 3, 1, 1]\n",
            "List after removing duplicates: [1, 4, 2, 7, 8, 3, 5, 6]\n"
          ]
        }
      ]
    },
    {
      "cell_type": "markdown",
      "source": [
        "# 4 . Check if all elements in a list are Unique"
      ],
      "metadata": {
        "id": "bWtSmL630ibf"
      }
    },
    {
      "cell_type": "code",
      "source": [
        "def Unique_elements(arr):\n",
        "  for i in range(len(arr)-1):\n",
        "    for j in range(i+1, len(arr)):\n",
        "      if arr[i] == arr[j]:\n",
        "        return False\n",
        "  return True\n",
        "\n",
        "arr = list(map(int, input(\"Enter values: \").split()))\n",
        "Unique_elements(arr)"
      ],
      "metadata": {
        "id": "JKbA-B6Yzr3p",
        "colab": {
          "base_uri": "https://localhost:8080/"
        },
        "outputId": "13aeb44e-538c-49d3-f7ad-de7952678b0d"
      },
      "execution_count": null,
      "outputs": [
        {
          "name": "stdout",
          "output_type": "stream",
          "text": [
            "Enter values: 12 5 6 3 8 0 4\n"
          ]
        },
        {
          "output_type": "execute_result",
          "data": {
            "text/plain": [
              "True"
            ]
          },
          "metadata": {},
          "execution_count": 6
        }
      ]
    },
    {
      "cell_type": "markdown",
      "source": [
        "# 5 . Reverse a List (Non-Slicing Approach)\n",
        "\n"
      ],
      "metadata": {
        "id": "_P-Iy72A2no7"
      }
    },
    {
      "cell_type": "code",
      "source": [
        "def reverse_list(arr):\n",
        "  result = []\n",
        "  n = len(arr)\n",
        "  for i in range(n-1, -1, -1):\n",
        "    result.append(arr[i])\n",
        "\n",
        "  return result\n",
        "\n",
        "arr = list(map(int, input(\"Enter values: \").split()))\n",
        "reverse_list(arr)"
      ],
      "metadata": {
        "colab": {
          "base_uri": "https://localhost:8080/"
        },
        "id": "MbwV_yr-1qEW",
        "outputId": "c3ac8199-6b50-4825-b2de-92f47bf86872"
      },
      "execution_count": null,
      "outputs": [
        {
          "name": "stdout",
          "output_type": "stream",
          "text": [
            "Enter values: 1 2 3 4 5 6 7\n"
          ]
        },
        {
          "output_type": "execute_result",
          "data": {
            "text/plain": [
              "[7, 6, 5, 4, 3, 2, 1]"
            ]
          },
          "metadata": {},
          "execution_count": 9
        }
      ]
    },
    {
      "cell_type": "markdown",
      "source": [
        "# 6 . Count Number of Odd and Even Elements in a List"
      ],
      "metadata": {
        "id": "wUfPXi7L3o4d"
      }
    },
    {
      "cell_type": "code",
      "source": [
        "def Count_Number(arr):\n",
        "  odd = 0\n",
        "  even = 0\n",
        "  for i in range(len(arr)):\n",
        "    if arr[i]%2 == 0:\n",
        "      even += 1\n",
        "    else:\n",
        "      odd += 1\n",
        "\n",
        "  return even, odd\n",
        "\n",
        "arr = list(map(int, input(\"Enter values: \").split()))\n",
        "Count_Number(arr)"
      ],
      "metadata": {
        "colab": {
          "base_uri": "https://localhost:8080/"
        },
        "id": "lKs8M5OA3GDG",
        "outputId": "7ef1d542-80d1-42cb-f663-843d082ac41c"
      },
      "execution_count": null,
      "outputs": [
        {
          "name": "stdout",
          "output_type": "stream",
          "text": [
            "Enter values: 1 2 3 4 5 6 7 8 9 0\n"
          ]
        },
        {
          "output_type": "execute_result",
          "data": {
            "text/plain": [
              "(5, 5)"
            ]
          },
          "metadata": {},
          "execution_count": 14
        }
      ]
    },
    {
      "cell_type": "markdown",
      "source": [
        "# 7 . Maximum difference between two consecutive elements in a list."
      ],
      "metadata": {
        "id": "HDbD6TGtzJIg"
      }
    },
    {
      "cell_type": "code",
      "source": [
        "def maximum(arr):\n",
        "  max = 0\n",
        "  for i in range(len(arr)-1):\n",
        "    difference = abs(arr[i] - arr[i+1])\n",
        "    if max < difference :\n",
        "      max = difference\n",
        "\n",
        "  return max\n",
        "\n",
        "arr = list(map(int, input(\"Enter values: \").split()))\n",
        "maximum(arr)"
      ],
      "metadata": {
        "id": "4CKwL1fC4LRq",
        "colab": {
          "base_uri": "https://localhost:8080/"
        },
        "outputId": "9dadaddb-4393-4729-e399-ba9067d413e9"
      },
      "execution_count": null,
      "outputs": [
        {
          "name": "stdout",
          "output_type": "stream",
          "text": [
            "Enter values: 1 7 3 10 5\n"
          ]
        },
        {
          "output_type": "execute_result",
          "data": {
            "text/plain": [
              "7"
            ]
          },
          "metadata": {},
          "execution_count": 1
        }
      ]
    },
    {
      "cell_type": "markdown",
      "source": [
        "# 8 . Merge two Sorted List"
      ],
      "metadata": {
        "id": "rGnCsemj0oN4"
      }
    },
    {
      "cell_type": "code",
      "source": [
        "def merge(arr1, arr2):\n",
        "  result = arr1 + arr2\n",
        "  result.sort()\n",
        "  return result\n",
        "arr1 = list(map(int, input(\"Enter values for arr1: \").split()))\n",
        "arr2 = list(map(int, input(\"Enter values for arr2: \").split()))\n",
        "arr1.sort()\n",
        "arr2.sort()\n",
        "merge(arr1, arr2)\n"
      ],
      "metadata": {
        "colab": {
          "base_uri": "https://localhost:8080/"
        },
        "id": "y-7ALEp10WI0",
        "outputId": "c0ac95ad-59ac-45b7-c3cb-ca02c124c91d"
      },
      "execution_count": null,
      "outputs": [
        {
          "name": "stdout",
          "output_type": "stream",
          "text": [
            "Enter values for arr1: 2 5 1 4 3\n",
            "Enter values for arr2: 9 0 6 8 7\n"
          ]
        },
        {
          "output_type": "execute_result",
          "data": {
            "text/plain": [
              "[0, 1, 2, 3, 4, 5, 6, 7, 8, 9]"
            ]
          },
          "metadata": {},
          "execution_count": 9
        }
      ]
    },
    {
      "cell_type": "markdown",
      "source": [
        "# 9 . Rotate a List (Without Slicing)"
      ],
      "metadata": {
        "id": "KiYIkpIX6Tys"
      }
    },
    {
      "cell_type": "code",
      "source": [
        "def rotate(arr, position):\n",
        "  if len(arr) == 0:\n",
        "    return arr\n",
        "\n",
        "  for i in range(position):\n",
        "    temp = arr[len(arr)-1]\n",
        "    for j in range(len(arr)-1, 0, -1):\n",
        "      arr[j] = arr[j-1]\n",
        "    arr[0] = temp\n",
        "  return arr\n",
        "\n",
        "arr = list(map(int, input(\"Enter values: \").split()))\n",
        "position = int(input(\"Enter position: \"))\n",
        "rotate(arr, position)\n"
      ],
      "metadata": {
        "colab": {
          "base_uri": "https://localhost:8080/"
        },
        "id": "U7EYo1EL2L5S",
        "outputId": "672ddc1c-1c4c-4e1e-eec1-4dda4b345aee"
      },
      "execution_count": null,
      "outputs": [
        {
          "name": "stdout",
          "output_type": "stream",
          "text": [
            "Enter values: 10 20 30 40 50\n",
            "Enter position: 2\n"
          ]
        },
        {
          "output_type": "execute_result",
          "data": {
            "text/plain": [
              "[40, 50, 10, 20, 30]"
            ]
          },
          "metadata": {},
          "execution_count": 22
        }
      ]
    },
    {
      "cell_type": "code",
      "source": [
        "def rotate(arr, position):\n",
        "  if not arr:\n",
        "    return []\n",
        "\n",
        "  for _ in range(position):\n",
        "    last_element = arr.pop()\n",
        "    arr.insert(0, last_element)\n",
        "  return arr\n",
        "\n",
        "\n",
        "\n",
        "arr = list(map(int, input(\"Enter values: \").split()))\n",
        "position = int(input(\"Enter position: \"))\n",
        "rotate(arr, position)\n"
      ],
      "metadata": {
        "colab": {
          "base_uri": "https://localhost:8080/"
        },
        "id": "MYG5Ds509F95",
        "outputId": "eefa6820-7b1b-4f5b-e617-7d312ab82538"
      },
      "execution_count": null,
      "outputs": [
        {
          "name": "stdout",
          "output_type": "stream",
          "text": [
            "Enter values: 10 50 60 90 30 20\n",
            "Enter position: 3\n"
          ]
        },
        {
          "output_type": "execute_result",
          "data": {
            "text/plain": [
              "[90, 30, 20, 10, 50, 60]"
            ]
          },
          "metadata": {},
          "execution_count": 24
        }
      ]
    },
    {
      "cell_type": "markdown",
      "source": [
        "# 10 . Merge 2 List into Dictionary"
      ],
      "metadata": {
        "id": "bcPlsdstHIXe"
      }
    },
    {
      "cell_type": "code",
      "source": [
        "def Merge2_List_into_Dictionary(key, value):\n",
        "  result = dict(zip(key, value))\n",
        "  return result\n",
        "\n",
        "key = input('Enter Key of dictionary: ').split()\n",
        "value = list(map(int, input('Enter value of dictionary: ').split()))\n",
        "Merge2_List_into_Dictionary(key, value)"
      ],
      "metadata": {
        "id": "yUwEJOSCCv1T",
        "colab": {
          "base_uri": "https://localhost:8080/"
        },
        "outputId": "520846c0-9628-4228-8807-0ad20da10534"
      },
      "execution_count": null,
      "outputs": [
        {
          "name": "stdout",
          "output_type": "stream",
          "text": [
            "Enter Key of dictionary: x y z\n",
            "Enter value of dictionary: 1 2 3\n"
          ]
        },
        {
          "output_type": "execute_result",
          "data": {
            "text/plain": [
              "{'x': 1, 'y': 2, 'z': 3}"
            ]
          },
          "metadata": {},
          "execution_count": 2
        }
      ]
    },
    {
      "cell_type": "code",
      "source": [
        "def Merge2_List_into_Dictionary(key, value):\n",
        "  if(len(key) != len(value)):\n",
        "    return False\n",
        "\n",
        "  result = {}\n",
        "  for i in range(len(key)):\n",
        "    result[key[i]] = value[i]\n",
        "\n",
        "  return result\n",
        "\n",
        "key = input('Enter Key of dictionary: ').split()\n",
        "value = list(map(int, input('Enter value of dictionary: ').split()))\n",
        "Merge2_List_into_Dictionary(key, value)"
      ],
      "metadata": {
        "colab": {
          "base_uri": "https://localhost:8080/"
        },
        "id": "hYbrGV2xHjbb",
        "outputId": "97967236-7279-4320-9e5f-7762a8d1c1c3"
      },
      "execution_count": null,
      "outputs": [
        {
          "name": "stdout",
          "output_type": "stream",
          "text": [
            "Enter Key of dictionary: x y z\n",
            "Enter value of dictionary: 4 3 2\n"
          ]
        },
        {
          "output_type": "execute_result",
          "data": {
            "text/plain": [
              "{'x': 4, 'y': 3, 'z': 2}"
            ]
          },
          "metadata": {},
          "execution_count": 3
        }
      ]
    },
    {
      "cell_type": "markdown",
      "source": [
        "# 11 . Merge Multiple Dictionaries"
      ],
      "metadata": {
        "id": "L-xroe0xK697"
      }
    },
    {
      "cell_type": "code",
      "source": [
        "def Merge_Multiple_Dictionaries(dict1, dict2, dict3):\n",
        "  result = {**dict1, **dict2, **dict3}\n",
        "  return result\n",
        "\n",
        "dict1 = {'a': 1, 'b': 2}\n",
        "dict2 = {'c': 3, 'd': 4}\n",
        "dict3 = {'e': 5, 'f': 6}\n",
        "Merge_Multiple_Dictionaries(dict1, dict2, dict3)"
      ],
      "metadata": {
        "colab": {
          "base_uri": "https://localhost:8080/"
        },
        "id": "g60xSvLoK-yB",
        "outputId": "b83d4b5d-448c-47de-f1d8-2d2ce881a9ba"
      },
      "execution_count": null,
      "outputs": [
        {
          "output_type": "execute_result",
          "data": {
            "text/plain": [
              "{'a': 1, 'b': 2, 'c': 3, 'd': 4, 'e': 5, 'f': 6}"
            ]
          },
          "metadata": {},
          "execution_count": 4
        }
      ]
    },
    {
      "cell_type": "code",
      "source": [
        "def Merge_Multiple_Dictionaries(dict1, dict2, dict3):\n",
        "  result = dict1.copy()\n",
        "  result.update(dict2)\n",
        "  result.update(dict3)\n",
        "  return result\n",
        "\n",
        "dict1 = {'a': 1, 'b': 2}\n",
        "dict2 = {'c': 3, 'd': 4}\n",
        "dict3 = {'e': 5, 'f': 6}\n",
        "Merge_Multiple_Dictionaries(dict1, dict2, dict3)"
      ],
      "metadata": {
        "colab": {
          "base_uri": "https://localhost:8080/"
        },
        "id": "33ADpCn5Lyh9",
        "outputId": "dbbe2751-dcf3-422b-e448-441749c276e7"
      },
      "execution_count": null,
      "outputs": [
        {
          "output_type": "execute_result",
          "data": {
            "text/plain": [
              "{'a': 1, 'b': 2, 'c': 3, 'd': 4, 'e': 5, 'f': 6}"
            ]
          },
          "metadata": {},
          "execution_count": 5
        }
      ]
    },
    {
      "cell_type": "code",
      "source": [
        "def Merge_Multiple_Dictionaries(dict1, dict2, dict3):\n",
        "  result = {}\n",
        "  for d in (dict1, dict2, dict3):\n",
        "    result.update(d)\n",
        "  return result\n",
        "\n",
        "dict1 = {'a': 1, 'b': 2}\n",
        "dict2 = {'c': 3, 'd': 4}\n",
        "dict3 = {'e': 5, 'f': 6}\n",
        "Merge_Multiple_Dictionaries(dict1, dict2, dict3)"
      ],
      "metadata": {
        "colab": {
          "base_uri": "https://localhost:8080/"
        },
        "id": "l9LUhgFbMsyf",
        "outputId": "6d32fa37-cab7-4dfa-a468-95894d8e1baa"
      },
      "execution_count": null,
      "outputs": [
        {
          "output_type": "execute_result",
          "data": {
            "text/plain": [
              "{'a': 1, 'b': 2, 'c': 3, 'd': 4, 'e': 5, 'f': 6}"
            ]
          },
          "metadata": {},
          "execution_count": 6
        }
      ]
    },
    {
      "cell_type": "markdown",
      "source": [
        "# 12 . Words Frequency in a Sentence"
      ],
      "metadata": {
        "id": "LglH3yNwNLzB"
      }
    },
    {
      "cell_type": "code",
      "source": [
        "def Words_Frequency_ina_Sentence(sentence):\n",
        "  words = sentence.split()\n",
        "  result = {}\n",
        "  for word in words:\n",
        "    if word in result:\n",
        "      result[word] += 1\n",
        "    else:\n",
        "      result[word] = 1\n",
        "  return result\n",
        "\n",
        "sentence = input(\"Enter sentence: \")\n",
        "Words_Frequency_ina_Sentence(sentence)\n"
      ],
      "metadata": {
        "colab": {
          "base_uri": "https://localhost:8080/"
        },
        "id": "dA81trOfNNVT",
        "outputId": "fcb8234c-3bea-42c3-8d2a-4e0573273363"
      },
      "execution_count": null,
      "outputs": [
        {
          "name": "stdout",
          "output_type": "stream",
          "text": [
            "Enter sentence: my name is nitin and i am nitin\n"
          ]
        },
        {
          "output_type": "execute_result",
          "data": {
            "text/plain": [
              "{'my': 1, 'name': 1, 'is': 1, 'nitin': 2, 'and': 1, 'i': 1, 'am': 1}"
            ]
          },
          "metadata": {},
          "execution_count": 9
        }
      ]
    },
    {
      "cell_type": "markdown",
      "source": [
        "# 13 . Palindromic Tuple"
      ],
      "metadata": {
        "id": "YaCEUp_IOz2W"
      }
    },
    {
      "cell_type": "code",
      "source": [
        "def Palindromic_Tuple(tup):\n",
        "  for i in range(len(tup)):\n",
        "    if tup[i] != tup[len(tup)-1-i]:\n",
        "      return False\n",
        "  return True\n",
        "\n",
        "tup = tuple(input('Enter values: ').split())\n",
        "Palindromic_Tuple(tup)"
      ],
      "metadata": {
        "colab": {
          "base_uri": "https://localhost:8080/"
        },
        "id": "_j76IJKJODVQ",
        "outputId": "86303bab-8ab1-41c0-b075-6e57823e6959"
      },
      "execution_count": null,
      "outputs": [
        {
          "name": "stdout",
          "output_type": "stream",
          "text": [
            "Enter values: 1 2 3 4 2 1\n"
          ]
        },
        {
          "output_type": "execute_result",
          "data": {
            "text/plain": [
              "False"
            ]
          },
          "metadata": {},
          "execution_count": 12
        }
      ]
    },
    {
      "cell_type": "markdown",
      "source": [
        "# 14 . Merge Dictionaries with Common Keys"
      ],
      "metadata": {
        "id": "yN_KWnbxQubA"
      }
    },
    {
      "cell_type": "code",
      "source": [
        "def Merge_Dictionaries_with_Common_Keys(dicts):\n",
        "  if not dicts:\n",
        "    return {}\n",
        "\n",
        "  result = {}\n",
        "  for dict in dicts:\n",
        "    for key, value in dict.items():\n",
        "      if key in result:\n",
        "        result[key] +=value\n",
        "      else:\n",
        "        result[key] = value\n",
        "  return result\n",
        "\n",
        "size = int(input(\"How many dictionary you want to sstore in list: \"))\n",
        "dicts = []\n",
        "for i in range(1, size+1):\n",
        "  dict = {}\n",
        "  key = input(f'Enter Key of dictionary {i}: ').split()\n",
        "  value = list(map(int, input(f'Enter value of dictionary {i}: ').split()))\n",
        "  if(len(key) == len(value)):\n",
        "    for j in range(len(key)):\n",
        "      dict[key[j]] = value[j]\n",
        "  dicts.append(dict)\n",
        "\n",
        "Merge_Dictionaries_with_Common_Keys(dicts)"
      ],
      "metadata": {
        "colab": {
          "base_uri": "https://localhost:8080/"
        },
        "id": "w3ueaoc8PiNz",
        "outputId": "17e6c6ed-effd-4234-f42c-c2a4470078b4"
      },
      "execution_count": null,
      "outputs": [
        {
          "name": "stdout",
          "output_type": "stream",
          "text": [
            "How many dictionary you want to sstore in list: 3\n",
            "Enter Key of dictionary 1: a b\n",
            "Enter value of dictionary 1: 1 3\n",
            "Enter Key of dictionary 2: b\n",
            "Enter value of dictionary 2: 6\n",
            "Enter Key of dictionary 3: a d\n",
            "Enter value of dictionary 3: 7 0\n"
          ]
        },
        {
          "output_type": "execute_result",
          "data": {
            "text/plain": [
              "{'a': 8, 'b': 9, 'd': 0}"
            ]
          },
          "metadata": {},
          "execution_count": 20
        }
      ]
    },
    {
      "cell_type": "code",
      "source": [
        "def merge_dicts_with_overlapping_keys(dicts):\n",
        "\n",
        "    result = {}\n",
        "    for d in dicts:\n",
        "      for key, value in d.items():\n",
        "        if key in result:\n",
        "          result[key] += value\n",
        "        else:\n",
        "          result[key] = value\n",
        "\n",
        "    return result\n"
      ],
      "metadata": {
        "id": "670uz16EU4Qt"
      },
      "execution_count": null,
      "outputs": []
    },
    {
      "cell_type": "markdown",
      "source": [
        "# 15 . Check if List is Subset of another List"
      ],
      "metadata": {
        "id": "J0BBmgbK-nl3"
      }
    },
    {
      "cell_type": "code",
      "source": [
        "def is_Subset(lst1, lst2):\n",
        "  if len(lst1) > len(lst2):\n",
        "    return False\n",
        "\n",
        "  if not lst1:\n",
        "    return True\n",
        "\n",
        "  for i in lst1:\n",
        "    if i not in lst2:\n",
        "      return False\n",
        "  return True\n",
        "\n",
        "\n",
        "lst1 = list(map(int, input(\"Enter Values: \").split()))\n",
        "lst2 = list(map(int, input(\"Enter Values: \").split()))\n",
        "is_Subset(lst1, lst2)"
      ],
      "metadata": {
        "colab": {
          "base_uri": "https://localhost:8080/"
        },
        "id": "zJlC8Qvp_sL_",
        "outputId": "5f93efea-7eb2-4e10-c782-85d7b593c95d"
      },
      "execution_count": null,
      "outputs": [
        {
          "name": "stdout",
          "output_type": "stream",
          "text": [
            "Enter Values: 1 2\n",
            "Enter Values: 1 3 4 5\n"
          ]
        },
        {
          "output_type": "execute_result",
          "data": {
            "text/plain": [
              "False"
            ]
          },
          "metadata": {},
          "execution_count": 5
        }
      ]
    },
    {
      "cell_type": "code",
      "source": [
        "def is_subset(lst1, lst2):\n",
        "\n",
        "    for element in lst1:\n",
        "        found = False\n",
        "        for item in lst2:\n",
        "            if item == element:\n",
        "                found = True\n",
        "                break\n",
        "        if not found:\n",
        "            return False\n",
        "    return True\n",
        "\n",
        "lst1 = list(map(int, input(\"Enter Values: \").split()))\n",
        "lst2 = list(map(int, input(\"Enter Values: \").split()))\n",
        "is_subset(lst1, lst2)"
      ],
      "metadata": {
        "id": "dAeg11Qx__A7",
        "colab": {
          "base_uri": "https://localhost:8080/"
        },
        "outputId": "366bd492-c8d8-4e05-d16e-b25543dd628e"
      },
      "execution_count": 5,
      "outputs": [
        {
          "name": "stdout",
          "output_type": "stream",
          "text": [
            "Enter Values: \n",
            "Enter Values: 1\n"
          ]
        },
        {
          "output_type": "execute_result",
          "data": {
            "text/plain": [
              "True"
            ]
          },
          "metadata": {},
          "execution_count": 5
        }
      ]
    },
    {
      "cell_type": "code",
      "source": [],
      "metadata": {
        "id": "lTjuTFpJDwOh"
      },
      "execution_count": 4,
      "outputs": []
    }
  ]
}