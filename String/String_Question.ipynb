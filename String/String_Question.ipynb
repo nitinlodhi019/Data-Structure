{
  "nbformat": 4,
  "nbformat_minor": 0,
  "metadata": {
    "colab": {
      "provenance": [],
      "authorship_tag": "ABX9TyNgpVgL9qsAP+1u9VMPRtUV",
      "include_colab_link": true
    },
    "kernelspec": {
      "name": "python3",
      "display_name": "Python 3"
    },
    "language_info": {
      "name": "python"
    }
  },
  "cells": [
    {
      "cell_type": "markdown",
      "metadata": {
        "id": "view-in-github",
        "colab_type": "text"
      },
      "source": [
        "<a href=\"https://colab.research.google.com/github/nitinlodhi019/Data-Structure/blob/main/String/String_Question.ipynb\" target=\"_parent\"><img src=\"https://colab.research.google.com/assets/colab-badge.svg\" alt=\"Open In Colab\"/></a>"
      ]
    },
    {
      "cell_type": "markdown",
      "source": [
        "# 1 . Reverse a string"
      ],
      "metadata": {
        "id": "EI20Wvtxggj1"
      }
    },
    {
      "cell_type": "code",
      "execution_count": null,
      "metadata": {
        "colab": {
          "base_uri": "https://localhost:8080/",
          "height": 52
        },
        "id": "AujzmgC3gWDc",
        "outputId": "0c7a4acf-d1d7-410f-ef13-9f12c9ad2c72"
      },
      "outputs": [
        {
          "name": "stdout",
          "output_type": "stream",
          "text": [
            "Enter your string: hello\n"
          ]
        },
        {
          "output_type": "execute_result",
          "data": {
            "text/plain": [
              "'olleh'"
            ],
            "application/vnd.google.colaboratory.intrinsic+json": {
              "type": "string"
            }
          },
          "metadata": {},
          "execution_count": 1
        }
      ],
      "source": [
        "def Reverse_string(st):\n",
        "  result = ''\n",
        "  for i in range(len(st)-1, -1, -1):\n",
        "    result += st[i]\n",
        "  return result\n",
        "\n",
        "s = input(\"Enter your string: \")\n",
        "Reverse_string(s)"
      ]
    },
    {
      "cell_type": "markdown",
      "source": [
        "# 2 . Count Vowels in a string"
      ],
      "metadata": {
        "id": "vHOCS9QKhakr"
      }
    },
    {
      "cell_type": "code",
      "source": [
        "def count_vowels(s):\n",
        "  low = s.lower()\n",
        "  return low.count('a') + low.count('e') + low.count('i') + low.count('o') + low.count('u')\n",
        "\n",
        "s = input(\"Enter your string: \")\n",
        "count_vowels(s)"
      ],
      "metadata": {
        "colab": {
          "base_uri": "https://localhost:8080/"
        },
        "id": "MjXm_sFMhJBU",
        "outputId": "eaa42210-7828-4260-f4b3-e69a656ff912"
      },
      "execution_count": null,
      "outputs": [
        {
          "name": "stdout",
          "output_type": "stream",
          "text": [
            "Enter your string: \n"
          ]
        },
        {
          "output_type": "execute_result",
          "data": {
            "text/plain": [
              "0"
            ]
          },
          "metadata": {},
          "execution_count": 7
        }
      ]
    },
    {
      "cell_type": "code",
      "source": [
        "def count_vowels1(s):\n",
        "  low = s.lower()\n",
        "  count = 0\n",
        "  for i in low:\n",
        "    if i in 'aieuo':\n",
        "      count += 1\n",
        "\n",
        "  return count\n",
        "\n",
        "s = input(\"Enter your string: \")\n",
        "count_vowels1(s)"
      ],
      "metadata": {
        "colab": {
          "base_uri": "https://localhost:8080/"
        },
        "id": "rlW9EkfPjBbn",
        "outputId": "d3b18441-93af-4231-999f-5b6a3a74f6cf"
      },
      "execution_count": null,
      "outputs": [
        {
          "name": "stdout",
          "output_type": "stream",
          "text": [
            "Enter your string: nitin Ooi\n"
          ]
        },
        {
          "output_type": "execute_result",
          "data": {
            "text/plain": [
              "5"
            ]
          },
          "metadata": {},
          "execution_count": 8
        }
      ]
    },
    {
      "cell_type": "markdown",
      "source": [
        "# 3 . Check for same strings"
      ],
      "metadata": {
        "id": "vDiM34kbkAPk"
      }
    },
    {
      "cell_type": "code",
      "source": [
        "def same(s1, s2):\n",
        "  if len(s1) != len(s2):\n",
        "    return False\n",
        "\n",
        "  for i in range(len(s1)):\n",
        "    if s1[i] != s2[i]:\n",
        "      return False\n",
        "\n",
        "  return True\n",
        "\n",
        "s1 = input(\"Enter your first string: \")\n",
        "s2 = input(\"Enter your second string: \")\n",
        "same(s1, s2)\n"
      ],
      "metadata": {
        "colab": {
          "base_uri": "https://localhost:8080/"
        },
        "id": "U4_i464Sjpc5",
        "outputId": "4d37778b-cb90-4514-b019-40cb7945ce59"
      },
      "execution_count": null,
      "outputs": [
        {
          "name": "stdout",
          "output_type": "stream",
          "text": [
            "Enter your first string: \n",
            "Enter your second string: \n"
          ]
        },
        {
          "output_type": "execute_result",
          "data": {
            "text/plain": [
              "True"
            ]
          },
          "metadata": {},
          "execution_count": 11
        }
      ]
    },
    {
      "cell_type": "markdown",
      "source": [
        "# 4 . Check Palindrome"
      ],
      "metadata": {
        "id": "GNBTRvcPldve"
      }
    },
    {
      "cell_type": "code",
      "source": [
        "def Check_Palindrome(s):\n",
        "  low = s.lower()\n",
        "  st = low.replace(\" \",\"\")\n",
        "  for i in range((len(st)+1)//2):\n",
        "    if st[i] != st[len(st)-1-i]:\n",
        "      return False\n",
        "  return True\n",
        "\n",
        "s = input(\"Enter your string: \")\n",
        "Check_Palindrome(s)"
      ],
      "metadata": {
        "colab": {
          "base_uri": "https://localhost:8080/"
        },
        "id": "NYl0K0Ckk5ba",
        "outputId": "f248dd9c-01f6-4227-db12-51162cc351fa"
      },
      "execution_count": null,
      "outputs": [
        {
          "name": "stdout",
          "output_type": "stream",
          "text": [
            "Enter your string: i am nitin\n"
          ]
        },
        {
          "output_type": "execute_result",
          "data": {
            "text/plain": [
              "False"
            ]
          },
          "metadata": {},
          "execution_count": 19
        }
      ]
    },
    {
      "cell_type": "markdown",
      "source": [
        "# 5 . Count words in a string"
      ],
      "metadata": {
        "id": "KSIwe1nloEul"
      }
    },
    {
      "cell_type": "code",
      "source": [
        "def count_words(s):\n",
        "  lst = s.split()\n",
        "  return len(lst)\n",
        "\n",
        "s = input(\"Enter your string: \")\n",
        "count_words(s)\n"
      ],
      "metadata": {
        "colab": {
          "base_uri": "https://localhost:8080/"
        },
        "id": "xi8AzzH8mmIV",
        "outputId": "2d91394b-82e7-499b-e661-a064fc798c1c"
      },
      "execution_count": null,
      "outputs": [
        {
          "name": "stdout",
          "output_type": "stream",
          "text": [
            "Enter your string: asa, ads! ccsf%\n"
          ]
        },
        {
          "output_type": "execute_result",
          "data": {
            "text/plain": [
              "3"
            ]
          },
          "metadata": {},
          "execution_count": 21
        }
      ]
    },
    {
      "cell_type": "markdown",
      "source": [
        "# 6 . Remove Duplicates in a string"
      ],
      "metadata": {
        "id": "JSPmeI4Aslf_"
      }
    },
    {
      "cell_type": "code",
      "source": [
        "def remove_duplicates(s):\n",
        "    seen = set()\n",
        "    result = []\n",
        "\n",
        "    for char in s:\n",
        "        if char not in seen:\n",
        "            seen.add(char)\n",
        "            result.append(char)\n",
        "\n",
        "    return \"\".join(result)\n",
        "\n",
        "s = input(\"Enter your string: \")\n",
        "print(remove_duplicates(s))"
      ],
      "metadata": {
        "colab": {
          "base_uri": "https://localhost:8080/"
        },
        "id": "QIELKaHuoVZV",
        "outputId": "9f426427-5596-4d02-d50d-f54bdc6d29b0"
      },
      "execution_count": null,
      "outputs": [
        {
          "output_type": "stream",
          "name": "stdout",
          "text": [
            "Enter your string: Hello, World!\n",
            "Helo, Wrd!\n"
          ]
        }
      ]
    },
    {
      "cell_type": "markdown",
      "source": [
        "# 7 . Count consonants in a string"
      ],
      "metadata": {
        "id": "fFJj0Zbosu_1"
      }
    },
    {
      "cell_type": "code",
      "source": [
        "def count_consonants(s):\n",
        "  low = s.lower()\n",
        "  a = low.replace(\" \",\"\")\n",
        "  count = 0\n",
        "  for i in low:\n",
        "    if i in 'bcdfghjklmnpqrstvwxyz':\n",
        "      count += 1\n",
        "\n",
        "  return count\n",
        "\n",
        "s = input(\"Enter your string: \")\n",
        "count_consonants(s)"
      ],
      "metadata": {
        "colab": {
          "base_uri": "https://localhost:8080/"
        },
        "id": "BHKjoEkNqxlS",
        "outputId": "777084c3-1200-4b9e-faf8-ed71d04cfd4a"
      },
      "execution_count": null,
      "outputs": [
        {
          "name": "stdout",
          "output_type": "stream",
          "text": [
            "Enter your string: sdsn dsdi sad\n"
          ]
        },
        {
          "output_type": "execute_result",
          "data": {
            "text/plain": [
              "11"
            ]
          },
          "metadata": {},
          "execution_count": 25
        }
      ]
    },
    {
      "cell_type": "markdown",
      "source": [
        "# 8 . Check for anagrams\n",
        "\n",
        "**Problem Description:**\n",
        "\n",
        "You are given two strings s and t. Your task is to determine if string t is an anagram of string s. An anagram is a word or phrase formed by rearranging the characters of a different word or phrase, using all the original characters exactly once."
      ],
      "metadata": {
        "id": "XxIba_Lt1HRR"
      }
    },
    {
      "cell_type": "code",
      "source": [
        "def is_anagram(s, t):\n",
        "    if len(s) != len(t):\n",
        "        return False\n",
        "\n",
        "    char_count_s = [0] * 26\n",
        "    char_count_t = [0] * 26\n",
        "\n",
        "    for char in s:\n",
        "        char_count_s[ord(char) - ord('a')] += 1\n",
        "\n",
        "    for char in t:\n",
        "        char_count_t[ord(char) - ord('a')] += 1\n",
        "\n",
        "    for i in range(26):\n",
        "        if char_count_s[i] != char_count_t[i]:\n",
        "            return False\n",
        "    return True\n",
        "\n",
        "s = input(\"Enter your first string: \")\n",
        "t = input(\"Enter your second string: \")\n",
        "is_anagram(s, t)"
      ],
      "metadata": {
        "id": "F2k2VlJU3LNS",
        "colab": {
          "base_uri": "https://localhost:8080/"
        },
        "outputId": "7f58d955-0e44-4c95-e6ce-a1597099ad7a"
      },
      "execution_count": null,
      "outputs": [
        {
          "name": "stdout",
          "output_type": "stream",
          "text": [
            "Enter your first string: \n",
            "Enter your second string: \n"
          ]
        },
        {
          "output_type": "execute_result",
          "data": {
            "text/plain": [
              "True"
            ]
          },
          "metadata": {},
          "execution_count": 3
        }
      ]
    },
    {
      "cell_type": "code",
      "source": [
        "\n",
        "char_count_t = [0] * 26\n",
        "print(char_count_t)"
      ],
      "metadata": {
        "colab": {
          "base_uri": "https://localhost:8080/"
        },
        "id": "h9qgjXfjbdQk",
        "outputId": "3264b4e1-d137-494e-b45d-acba748999a0"
      },
      "execution_count": null,
      "outputs": [
        {
          "output_type": "stream",
          "name": "stdout",
          "text": [
            "[0, 0, 0, 0, 0, 0, 0, 0, 0, 0, 0, 0, 0, 0, 0, 0, 0, 0, 0, 0, 0, 0, 0, 0, 0, 0]\n"
          ]
        }
      ]
    },
    {
      "cell_type": "markdown",
      "source": [
        "# 9 . Check Subsequence"
      ],
      "metadata": {
        "id": "cpMeFdwkdDSj"
      }
    },
    {
      "cell_type": "code",
      "source": [
        "def is_subsequence(s, t):\n",
        "    i, j = 0, 0\n",
        "    while i < len(s) and j < len(t):\n",
        "        if s[i] == t[j]:\n",
        "            j += 1\n",
        "        i += 1\n",
        "\n",
        "    return j == len(t)\n",
        "\n",
        "s = input(\"Enter your first string: \")\n",
        "t = input(\"Enter your second string: \")\n",
        "is_subsequence(s, t)"
      ],
      "metadata": {
        "colab": {
          "base_uri": "https://localhost:8080/"
        },
        "id": "G45-0LBJdg6L",
        "outputId": "52bab0f3-f36d-441b-b402-c25570b095f8"
      },
      "execution_count": null,
      "outputs": [
        {
          "name": "stdout",
          "output_type": "stream",
          "text": [
            "Enter your first string: abde\n",
            "Enter your second string: ae\n"
          ]
        },
        {
          "output_type": "execute_result",
          "data": {
            "text/plain": [
              "True"
            ]
          },
          "metadata": {},
          "execution_count": 11
        }
      ]
    },
    {
      "cell_type": "markdown",
      "source": [
        "# 10 . Check for Substring\n"
      ],
      "metadata": {
        "id": "iO164PFHlr0n"
      }
    },
    {
      "cell_type": "code",
      "source": [
        "def is_substring(s, t):\n",
        "  if len(t) == 0:\n",
        "    return True\n",
        "\n",
        "  res = s.split()\n",
        "  for i in res:\n",
        "    if i == t:\n",
        "      return True\n",
        "  return False\n",
        "\n",
        "s = input(\"Enter your first string: \")\n",
        "t = input(\"Enter your second string: \")\n",
        "is_substring(s, t)"
      ],
      "metadata": {
        "colab": {
          "base_uri": "https://localhost:8080/"
        },
        "id": "a5-pNbEUgVeO",
        "outputId": "cf6490bf-7cb0-47e3-8145-d5d3730bac63"
      },
      "execution_count": null,
      "outputs": [
        {
          "name": "stdout",
          "output_type": "stream",
          "text": [
            "Enter your first string: fdg vb\n",
            "Enter your second string: \n"
          ]
        },
        {
          "output_type": "execute_result",
          "data": {
            "text/plain": [
              "True"
            ]
          },
          "metadata": {},
          "execution_count": 15
        }
      ]
    },
    {
      "cell_type": "markdown",
      "source": [
        "# 11 . Length of the Longest Word"
      ],
      "metadata": {
        "id": "P29H-w7WprBS"
      }
    },
    {
      "cell_type": "code",
      "source": [
        "def Longest_Word(s)\n",
        "  #st = s.strip()\n",
        "  max_len  = 0\n",
        "  curr_len = 0\n",
        "\n",
        "  for i in range(len(s)):\n",
        "    if s[i] != ' ':\n",
        "      curr_len +=1\n",
        "\n",
        "    else:\n",
        "      if curr_len > max_len:\n",
        "        max_len = curr_len\n",
        "      curr_len = 0\n",
        "\n",
        "# it will help when(if the string doesn't end with a space)\n",
        "  if curr_len > max_len:\n",
        "    max_len = curr_len\n",
        "\n",
        "  return max_len\n",
        "\n",
        "s = input(\"Enter your string: \")\n",
        "Longest_Word(s)"
      ],
      "metadata": {
        "id": "nEHgDsKXm5-E"
      },
      "execution_count": null,
      "outputs": []
    },
    {
      "cell_type": "code",
      "source": [],
      "metadata": {
        "id": "bL0n8LULp0dR"
      },
      "execution_count": null,
      "outputs": []
    }
  ]
}