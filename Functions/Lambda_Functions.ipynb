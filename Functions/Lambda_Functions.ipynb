{
  "nbformat": 4,
  "nbformat_minor": 0,
  "metadata": {
    "colab": {
      "provenance": [],
      "authorship_tag": "ABX9TyO2/srZjQz++fLUA16teKvg",
      "include_colab_link": true
    },
    "kernelspec": {
      "name": "python3",
      "display_name": "Python 3"
    },
    "language_info": {
      "name": "python"
    }
  },
  "cells": [
    {
      "cell_type": "markdown",
      "metadata": {
        "id": "view-in-github",
        "colab_type": "text"
      },
      "source": [
        "<a href=\"https://colab.research.google.com/github/nitinlodhi019/Data-Structure/blob/main/Functions/Lambda_Functions.ipynb\" target=\"_parent\"><img src=\"https://colab.research.google.com/assets/colab-badge.svg\" alt=\"Open In Colab\"/></a>"
      ]
    },
    {
      "cell_type": "markdown",
      "source": [
        "**A lambda function is an anonymous function (i.e., defined without a name) that can take any number of arguments but, unlike normal functions, evaluates and returns only one expression.**"
      ],
      "metadata": {
        "id": "H9HOdnAa4s9D"
      }
    },
    {
      "cell_type": "code",
      "execution_count": null,
      "metadata": {
        "colab": {
          "base_uri": "https://localhost:8080/"
        },
        "id": "FhVjrsqj4W0N",
        "outputId": "c0813073-fa1a-43d3-82ab-5c52b7063cdd"
      },
      "outputs": [
        {
          "output_type": "stream",
          "name": "stdout",
          "text": [
            "<class 'function'>\n",
            "3\n"
          ]
        }
      ],
      "source": [
        "add = lambda a,b : a+b\n",
        "print(type(add))\n",
        "print(add(1,2))"
      ]
    },
    {
      "cell_type": "code",
      "source": [
        "even = lambda num: num%2==0\n",
        "print(even(12))"
      ],
      "metadata": {
        "colab": {
          "base_uri": "https://localhost:8080/"
        },
        "id": "lTqY8o805gui",
        "outputId": "da80d7d7-f306-4eaf-f097-0bc2874caaf1"
      },
      "execution_count": null,
      "outputs": [
        {
          "output_type": "stream",
          "name": "stdout",
          "text": [
            "True\n"
          ]
        }
      ]
    },
    {
      "cell_type": "code",
      "source": [
        "add =  lambda a, b, c : a+b+c\n",
        "print(add(12,3,4))"
      ],
      "metadata": {
        "colab": {
          "base_uri": "https://localhost:8080/"
        },
        "id": "v0rgFnAN59_o",
        "outputId": "ba896289-31ce-4ada-9fd5-c8b947a8c30a"
      },
      "execution_count": null,
      "outputs": [
        {
          "output_type": "stream",
          "name": "stdout",
          "text": [
            "19\n"
          ]
        }
      ]
    },
    {
      "cell_type": "code",
      "source": [
        "def myfunc(n):\n",
        "  return lambda a: a*n\n",
        "\n",
        "mydoubler = myfunc(2)\n",
        "mytripler = myfunc(3)\n",
        "\n",
        "print(mydoubler(11))\n",
        "print(mytripler(11))"
      ],
      "metadata": {
        "colab": {
          "base_uri": "https://localhost:8080/"
        },
        "id": "KijrvXYp6MDw",
        "outputId": "dc583adc-9676-4c59-d84a-7d5152f26593"
      },
      "execution_count": null,
      "outputs": [
        {
          "output_type": "stream",
          "name": "stdout",
          "text": [
            "22\n",
            "33\n"
          ]
        }
      ]
    },
    {
      "cell_type": "code",
      "source": [],
      "metadata": {
        "id": "gkK4vKj66-BB"
      },
      "execution_count": null,
      "outputs": []
    }
  ]
}