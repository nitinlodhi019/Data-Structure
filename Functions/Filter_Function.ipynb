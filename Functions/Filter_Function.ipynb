{
  "nbformat": 4,
  "nbformat_minor": 0,
  "metadata": {
    "colab": {
      "provenance": [],
      "authorship_tag": "ABX9TyNeNWatasm7rPSstOLP6qRj",
      "include_colab_link": true
    },
    "kernelspec": {
      "name": "python3",
      "display_name": "Python 3"
    },
    "language_info": {
      "name": "python"
    }
  },
  "cells": [
    {
      "cell_type": "markdown",
      "metadata": {
        "id": "view-in-github",
        "colab_type": "text"
      },
      "source": [
        "<a href=\"https://colab.research.google.com/github/nitinlodhi019/Data-Structure/blob/main/Functions/Filter_Function.ipynb\" target=\"_parent\"><img src=\"https://colab.research.google.com/assets/colab-badge.svg\" alt=\"Open In Colab\"/></a>"
      ]
    },
    {
      "cell_type": "markdown",
      "source": [
        "**The filter() function in Python is a built-in function that filters a sequence of values based on a given condition. It is used to extract specific data from a large set of data.**"
      ],
      "metadata": {
        "id": "xZ37J9qeAq9N"
      }
    },
    {
      "cell_type": "code",
      "execution_count": null,
      "metadata": {
        "colab": {
          "base_uri": "https://localhost:8080/"
        },
        "id": "Z04yoUJkAZL4",
        "outputId": "e5839d3a-2495-411c-a22b-bde897d53b4a"
      },
      "outputs": [
        {
          "output_type": "execute_result",
          "data": {
            "text/plain": [
              "True"
            ]
          },
          "metadata": {},
          "execution_count": 2
        }
      ],
      "source": [
        "def even(n):\n",
        "  if n%2==0:\n",
        "    return True\n",
        "\n",
        "even(10)"
      ]
    },
    {
      "cell_type": "code",
      "source": [
        "numbers = [1,2,3,4,5,6,7,8,9,10,11,12,13,14]\n",
        "list(filter(even, numbers))"
      ],
      "metadata": {
        "colab": {
          "base_uri": "https://localhost:8080/"
        },
        "id": "tKat71y1Beim",
        "outputId": "45ebfd5f-3f10-4630-ef3a-12e384931cf6"
      },
      "execution_count": null,
      "outputs": [
        {
          "output_type": "execute_result",
          "data": {
            "text/plain": [
              "[2, 4, 6, 8, 10, 12, 14]"
            ]
          },
          "metadata": {},
          "execution_count": 4
        }
      ]
    },
    {
      "cell_type": "markdown",
      "source": [
        "#Filter with lambda"
      ],
      "metadata": {
        "id": "xlDHpfsdCaNz"
      }
    },
    {
      "cell_type": "code",
      "source": [
        "greater_than_five = list(filter(lambda x: x>5, numbers))\n",
        "print(greater_than_five)"
      ],
      "metadata": {
        "colab": {
          "base_uri": "https://localhost:8080/"
        },
        "id": "KBkDkbYGB2ai",
        "outputId": "7e17dda4-3c87-41ff-c14d-9e361cd41248"
      },
      "execution_count": null,
      "outputs": [
        {
          "output_type": "stream",
          "name": "stdout",
          "text": [
            "[6, 7, 8, 9, 10, 11, 12, 13, 14]\n"
          ]
        }
      ]
    },
    {
      "cell_type": "code",
      "source": [
        "even_and_greater_than_five = list(filter(lambda x: x>5 and x%2==0, numbers))\n",
        "print(even_and_greater_than_five)"
      ],
      "metadata": {
        "colab": {
          "base_uri": "https://localhost:8080/"
        },
        "id": "ntbpizi1CTUY",
        "outputId": "d4f7263d-c9d0-4a3a-b18d-53113433dfdd"
      },
      "execution_count": null,
      "outputs": [
        {
          "output_type": "stream",
          "name": "stdout",
          "text": [
            "[6, 8, 10, 12, 14]\n"
          ]
        }
      ]
    },
    {
      "cell_type": "markdown",
      "source": [
        "#Dictonary"
      ],
      "metadata": {
        "id": "n4H6qZWFDAmT"
      }
    },
    {
      "cell_type": "code",
      "source": [
        "people = [\n",
        "    {\"name\": \"Harry\",'age':15},\n",
        "    {\"name\": \"Cho\", 'age':32},\n",
        "    {\"name\": \"Draco\",'age':25},\n",
        "    {\"name\": \"Luna\",'age':12},\n",
        "    {\"name\": \"Padma\",'age':18}\n",
        "]\n",
        "\n",
        "def age_greater_than25(person):\n",
        "  return person['age'] > 25\n",
        "\n",
        "list(filter(age_greater_than25, people))"
      ],
      "metadata": {
        "colab": {
          "base_uri": "https://localhost:8080/"
        },
        "id": "Tvf9DMKcC2WF",
        "outputId": "8d845c78-294b-448b-8562-25db85420ccc"
      },
      "execution_count": null,
      "outputs": [
        {
          "output_type": "execute_result",
          "data": {
            "text/plain": [
              "[{'name': 'Cho', 'age': 32}]"
            ]
          },
          "metadata": {},
          "execution_count": 7
        }
      ]
    }
  ]
}