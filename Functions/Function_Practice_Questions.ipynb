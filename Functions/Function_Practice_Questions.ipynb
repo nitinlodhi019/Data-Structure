{
  "nbformat": 4,
  "nbformat_minor": 0,
  "metadata": {
    "colab": {
      "provenance": [],
      "toc_visible": true,
      "authorship_tag": "ABX9TyN4kro6Am5LcWHAgVB8ZH7g",
      "include_colab_link": true
    },
    "kernelspec": {
      "name": "python3",
      "display_name": "Python 3"
    },
    "language_info": {
      "name": "python"
    }
  },
  "cells": [
    {
      "cell_type": "markdown",
      "metadata": {
        "id": "view-in-github",
        "colab_type": "text"
      },
      "source": [
        "<a href=\"https://colab.research.google.com/github/nitinlodhi019/Data-Structure/blob/main/Functions/Function_Practice_Questions.ipynb\" target=\"_parent\"><img src=\"https://colab.research.google.com/assets/colab-badge.svg\" alt=\"Open In Colab\"/></a>"
      ]
    },
    {
      "cell_type": "markdown",
      "source": [
        "# 1 . Celsius to Fahrenheit"
      ],
      "metadata": {
        "id": "O1AtkkPEKLfo"
      }
    },
    {
      "cell_type": "code",
      "execution_count": 2,
      "metadata": {
        "colab": {
          "base_uri": "https://localhost:8080/"
        },
        "id": "XY5CmD3PJL9q",
        "outputId": "d97053e2-b362-4921-f9c3-8d985c67543e"
      },
      "outputs": [
        {
          "name": "stdout",
          "output_type": "stream",
          "text": [
            "Enter value: 0\n"
          ]
        },
        {
          "output_type": "execute_result",
          "data": {
            "text/plain": [
              "32.0"
            ]
          },
          "metadata": {},
          "execution_count": 2
        }
      ],
      "source": [
        "def Celsius_to_Fahrenheit(C):\n",
        "  F = (9/5 * C + 32)\n",
        "  return F\n",
        "\n",
        "C = int(input(\"Enter value: \"))\n",
        "Celsius_to_Fahrenheit(C)"
      ]
    },
    {
      "cell_type": "markdown",
      "source": [
        "# 2 . Area of a Rectangle"
      ],
      "metadata": {
        "id": "5bBVSFZBLXKA"
      }
    },
    {
      "cell_type": "code",
      "source": [
        "def Area_of_a_Rectangle(l , b):\n",
        "  area = l * b\n",
        "  return area\n",
        "\n",
        "length, breadth = map(int, input('Enter length or breadth: ').split())\n",
        "Area_of_a_Rectangle(length, breadth)"
      ],
      "metadata": {
        "colab": {
          "base_uri": "https://localhost:8080/"
        },
        "id": "yVkqoRzjLE9c",
        "outputId": "a6a5e599-62b8-41cf-85c3-2fe6c3df6268"
      },
      "execution_count": 8,
      "outputs": [
        {
          "name": "stdout",
          "output_type": "stream",
          "text": [
            "Enter length or breadth: 2 24\n"
          ]
        },
        {
          "output_type": "execute_result",
          "data": {
            "text/plain": [
              "48"
            ]
          },
          "metadata": {},
          "execution_count": 8
        }
      ]
    },
    {
      "cell_type": "markdown",
      "source": [
        "# 3 . Distance covered by a Vehicle"
      ],
      "metadata": {
        "id": "VFo18PzRMNHj"
      }
    },
    {
      "cell_type": "code",
      "source": [
        "def Distance_covered_by_a_Vehicle(speed , time):\n",
        "  distance = speed * time\n",
        "  return distance\n",
        "\n",
        "speed , time = map(float, input('Enter speed or time: ').split())\n",
        "Area_of_a_Rectangle(speed, time)"
      ],
      "metadata": {
        "colab": {
          "base_uri": "https://localhost:8080/"
        },
        "id": "y5GyJDt7L9HJ",
        "outputId": "a8f0aac8-1af5-4053-ade2-370844f70bf3"
      },
      "execution_count": 9,
      "outputs": [
        {
          "name": "stdout",
          "output_type": "stream",
          "text": [
            "Enter speed or time: 34 23.2\n"
          ]
        },
        {
          "output_type": "execute_result",
          "data": {
            "text/plain": [
              "788.8"
            ]
          },
          "metadata": {},
          "execution_count": 9
        }
      ]
    },
    {
      "cell_type": "markdown",
      "source": [
        "# 4 . Number of Rounds of Lift"
      ],
      "metadata": {
        "id": "WorjqZaSPtOU"
      }
    },
    {
      "cell_type": "code",
      "source": [
        "import math\n",
        "def Number_of_Rounds_of_Lift(capacity, people):\n",
        "  output = math.ceil(people / capacity)\n",
        "  #return (people + capacity - 1) // capacity\n",
        "  return output\n",
        "\n",
        "capacity , people = map(int, input('Enter capacity or people: ').split())\n",
        "Number_of_Rounds_of_Lift(capacity, people)\n"
      ],
      "metadata": {
        "colab": {
          "base_uri": "https://localhost:8080/"
        },
        "id": "iPU5l2sPM3WU",
        "outputId": "e2c3c0d0-a00d-496f-814c-02c168f5999c"
      },
      "execution_count": 12,
      "outputs": [
        {
          "name": "stdout",
          "output_type": "stream",
          "text": [
            "Enter capacity or people: 3 10\n"
          ]
        },
        {
          "output_type": "execute_result",
          "data": {
            "text/plain": [
              "4"
            ]
          },
          "metadata": {},
          "execution_count": 12
        }
      ]
    },
    {
      "cell_type": "markdown",
      "source": [
        "# 5 . Line Equation"
      ],
      "metadata": {
        "id": "meJyH3tcRtlV"
      }
    },
    {
      "cell_type": "code",
      "source": [
        "def Line_Equation(slope, intercept, x):\n",
        "  y = slope * x + intercept\n",
        "  return y\n",
        "\n",
        "slope , intercept , x = map(float, input('Enter slope, intercept or x: ').split())\n",
        "Line_Equation(slope, intercept, x)"
      ],
      "metadata": {
        "colab": {
          "base_uri": "https://localhost:8080/"
        },
        "id": "Sse7_5mqQBr7",
        "outputId": "9913aa72-5b48-4e68-bd62-cda94e712b10"
      },
      "execution_count": 13,
      "outputs": [
        {
          "name": "stdout",
          "output_type": "stream",
          "text": [
            "Enter slope, intercept or x: 23 24 5\n"
          ]
        },
        {
          "output_type": "execute_result",
          "data": {
            "text/plain": [
              "139.0"
            ]
          },
          "metadata": {},
          "execution_count": 13
        }
      ]
    },
    {
      "cell_type": "code",
      "source": [],
      "metadata": {
        "id": "ZTa9SxueR13M"
      },
      "execution_count": null,
      "outputs": []
    }
  ]
}