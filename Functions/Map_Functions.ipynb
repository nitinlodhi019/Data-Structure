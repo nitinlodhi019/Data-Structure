{
  "nbformat": 4,
  "nbformat_minor": 0,
  "metadata": {
    "colab": {
      "provenance": [],
      "authorship_tag": "ABX9TyOV47rXue3tWOSVsxCUERm7",
      "include_colab_link": true
    },
    "kernelspec": {
      "name": "python3",
      "display_name": "Python 3"
    },
    "language_info": {
      "name": "python"
    }
  },
  "cells": [
    {
      "cell_type": "markdown",
      "metadata": {
        "id": "view-in-github",
        "colab_type": "text"
      },
      "source": [
        "<a href=\"https://colab.research.google.com/github/nitinlodhi019/Data-Structure/blob/main/Functions/Map_Functions.ipynb\" target=\"_parent\"><img src=\"https://colab.research.google.com/assets/colab-badge.svg\" alt=\"Open In Colab\"/></a>"
      ]
    },
    {
      "cell_type": "markdown",
      "source": [
        "**Map in Python is a function that works as an iterator to return a result after applying a function to every item of an iterable (tuple, lists, etc.). It is used when you want to apply a single transformation function to all the iterable elements. The iterable and function are passed as arguments to the map in Python.**"
      ],
      "metadata": {
        "id": "Ye-rdkCd8Wi_"
      }
    },
    {
      "cell_type": "code",
      "execution_count": null,
      "metadata": {
        "id": "OzTOFCf97D2h"
      },
      "outputs": [],
      "source": [
        "numbers = [1,2,3,4,5,6,7,8,9]"
      ]
    },
    {
      "cell_type": "code",
      "source": [
        "list(map(lambda num: num**2, numbers))"
      ],
      "metadata": {
        "colab": {
          "base_uri": "https://localhost:8080/"
        },
        "id": "JdlfpdtV8fAU",
        "outputId": "a0f7e24a-b054-4d16-cde3-45180196f0ff"
      },
      "execution_count": null,
      "outputs": [
        {
          "output_type": "execute_result",
          "data": {
            "text/plain": [
              "[1, 4, 9, 16, 25, 36, 49, 64, 81]"
            ]
          },
          "metadata": {},
          "execution_count": 6
        }
      ]
    },
    {
      "cell_type": "code",
      "source": [
        "def square(x):\n",
        "  return x*x\n",
        "\n",
        "\n",
        "list(map(square, numbers))"
      ],
      "metadata": {
        "colab": {
          "base_uri": "https://localhost:8080/"
        },
        "id": "XGGqSQI58oTL",
        "outputId": "9497752c-55d7-4446-f646-a2a58a9723e8"
      },
      "execution_count": null,
      "outputs": [
        {
          "output_type": "execute_result",
          "data": {
            "text/plain": [
              "[1, 4, 9, 16, 25, 36, 49, 64, 81]"
            ]
          },
          "metadata": {},
          "execution_count": 5
        }
      ]
    },
    {
      "cell_type": "markdown",
      "source": [
        "#multiple iterables"
      ],
      "metadata": {
        "id": "GrBooKvS-N8s"
      }
    },
    {
      "cell_type": "code",
      "source": [
        "numbers1= [1,2,3]\n",
        "numbers2= [4,5,6]\n",
        "\n",
        "added_num = list(map(lambda x,y : x+y, numbers1, numbers2))\n",
        "print(added_num)"
      ],
      "metadata": {
        "colab": {
          "base_uri": "https://localhost:8080/"
        },
        "id": "Aq3n8Foy9VDl",
        "outputId": "a63ae97e-2e9a-4ba3-c4c3-0218a376ca0d"
      },
      "execution_count": null,
      "outputs": [
        {
          "output_type": "stream",
          "name": "stdout",
          "text": [
            "[5, 7, 9]\n"
          ]
        }
      ]
    },
    {
      "cell_type": "markdown",
      "source": [
        "#inbuilt fun"
      ],
      "metadata": {
        "id": "XDQ9QlPT_F1M"
      }
    },
    {
      "cell_type": "code",
      "source": [
        "str_num = ['1', '2', '3']\n",
        "int_num = list(map(int, str_num))\n",
        "print(int_num)"
      ],
      "metadata": {
        "colab": {
          "base_uri": "https://localhost:8080/"
        },
        "id": "aiOqHjFQ-e59",
        "outputId": "4892d085-33f9-423a-e7ed-c08b60b461e0"
      },
      "execution_count": null,
      "outputs": [
        {
          "output_type": "stream",
          "name": "stdout",
          "text": [
            "[1, 2, 3]\n"
          ]
        }
      ]
    },
    {
      "cell_type": "code",
      "source": [
        "words = ['apple', 'banana', 'cherry']\n",
        "upper_words = list(map(str.upper, words))\n",
        "print(upper_words)"
      ],
      "metadata": {
        "colab": {
          "base_uri": "https://localhost:8080/"
        },
        "id": "pxR5V-wW-3Fs",
        "outputId": "0cfe50aa-141f-4d1c-89a1-e1e8376e7b6a"
      },
      "execution_count": null,
      "outputs": [
        {
          "output_type": "stream",
          "name": "stdout",
          "text": [
            "['APPLE', 'BANANA', 'CHERRY']\n"
          ]
        }
      ]
    },
    {
      "cell_type": "markdown",
      "source": [
        "#Dictonary"
      ],
      "metadata": {
        "id": "yRfjsu-__IpE"
      }
    },
    {
      "cell_type": "code",
      "source": [
        "people = [{'name': 'Alice', 'age': 30},\n",
        "          {'name': 'Bob', 'age': 25},\n",
        "          {'name': 'Charlie', 'age': 35}]\n",
        "\n",
        "names = list(map(lambda person: person['name'], people))\n",
        "print(names)\n",
        "\n",
        "def get_age(person):\n",
        "  return person['age']\n",
        "\n",
        "list(map(get_age, people))"
      ],
      "metadata": {
        "colab": {
          "base_uri": "https://localhost:8080/"
        },
        "id": "3c_PuR_j_iYm",
        "outputId": "a70fe3ed-725c-4adf-eff8-c223e970fd8b"
      },
      "execution_count": null,
      "outputs": [
        {
          "output_type": "stream",
          "name": "stdout",
          "text": [
            "['Alice', 'Bob', 'Charlie']\n"
          ]
        },
        {
          "output_type": "execute_result",
          "data": {
            "text/plain": [
              "[30, 25, 35]"
            ]
          },
          "metadata": {},
          "execution_count": 10
        }
      ]
    },
    {
      "cell_type": "code",
      "source": [],
      "metadata": {
        "id": "OOEKz4kA_6aV"
      },
      "execution_count": null,
      "outputs": []
    }
  ]
}