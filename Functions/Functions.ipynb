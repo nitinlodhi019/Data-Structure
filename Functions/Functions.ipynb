{
  "nbformat": 4,
  "nbformat_minor": 0,
  "metadata": {
    "colab": {
      "provenance": [],
      "authorship_tag": "ABX9TyOeIoozflBMYG3nnKwQ0Y8i",
      "include_colab_link": true
    },
    "kernelspec": {
      "name": "python3",
      "display_name": "Python 3"
    },
    "language_info": {
      "name": "python"
    }
  },
  "cells": [
    {
      "cell_type": "markdown",
      "metadata": {
        "id": "view-in-github",
        "colab_type": "text"
      },
      "source": [
        "<a href=\"https://colab.research.google.com/github/nitinlodhi019/Data-Structure/blob/main/Functions/Functions.ipynb\" target=\"_parent\"><img src=\"https://colab.research.google.com/assets/colab-badge.svg\" alt=\"Open In Colab\"/></a>"
      ]
    },
    {
      "cell_type": "code",
      "execution_count": null,
      "metadata": {
        "colab": {
          "base_uri": "https://localhost:8080/"
        },
        "id": "MyJ9_79dUHzR",
        "outputId": "4c102b89-3aff-4c29-82bb-c368b1640ad1"
      },
      "outputs": [
        {
          "output_type": "stream",
          "name": "stdout",
          "text": [
            "34\n",
            "number is even\n"
          ]
        }
      ],
      "source": [
        "def odd_or_even(number):\n",
        "  \"\"\"This function finds even or odd\"\"\"\n",
        "  if number%2==0:\n",
        "    print('number is even')\n",
        "  else:\n",
        "    print('number is odd')\n",
        "\n",
        "a = input()\n",
        "odd_or_even(int(a))"
      ]
    },
    {
      "cell_type": "markdown",
      "source": [
        "#Multiple Parameter"
      ],
      "metadata": {
        "id": "CsjgjkZoWPP5"
      }
    },
    {
      "cell_type": "code",
      "source": [
        "def add(a, b):\n",
        "  return a+b\n",
        "\n",
        "result= add(2,3)\n",
        "print(result)"
      ],
      "metadata": {
        "colab": {
          "base_uri": "https://localhost:8080/"
        },
        "id": "BlxOzd0UVLvz",
        "outputId": "ad7f7143-c8aa-4fea-c5e4-789fd665ff98"
      },
      "execution_count": null,
      "outputs": [
        {
          "output_type": "stream",
          "name": "stdout",
          "text": [
            "5\n"
          ]
        }
      ]
    },
    {
      "cell_type": "markdown",
      "source": [
        "#Default Parameter"
      ],
      "metadata": {
        "id": "7yZjLJe3WUUK"
      }
    },
    {
      "cell_type": "code",
      "source": [
        "def greet(name):\n",
        "  print(f'hello {name}, welcome in this  programming world')\n",
        "\n",
        "greet('sonu')"
      ],
      "metadata": {
        "colab": {
          "base_uri": "https://localhost:8080/"
        },
        "id": "-Kx-M38dWCrX",
        "outputId": "e85e2eac-50eb-40f6-801f-296b3417a705"
      },
      "execution_count": null,
      "outputs": [
        {
          "output_type": "stream",
          "name": "stdout",
          "text": [
            "hello sonu, welcome in this  programming world\n"
          ]
        }
      ]
    },
    {
      "cell_type": "code",
      "source": [
        "def greet(name='buddy'):\n",
        "  print(f'hello {name}, welcome in this  programming world')\n",
        "\n",
        "greet()"
      ],
      "metadata": {
        "colab": {
          "base_uri": "https://localhost:8080/"
        },
        "id": "6sNyv9M7Wn8-",
        "outputId": "1eaa562c-4200-4321-86fa-886ecfc481bb"
      },
      "execution_count": null,
      "outputs": [
        {
          "output_type": "stream",
          "name": "stdout",
          "text": [
            "hello buddy, welcome in this  programming world\n"
          ]
        }
      ]
    },
    {
      "cell_type": "code",
      "source": [
        "def greet(name='buddy'):\n",
        "  print(f'hello {name}, welcome in this  programming world')\n",
        "\n",
        "greet('mohan')"
      ],
      "metadata": {
        "colab": {
          "base_uri": "https://localhost:8080/"
        },
        "id": "svG64mn7W6rd",
        "outputId": "cf6a8735-8d68-4326-f933-6d199d165b67"
      },
      "execution_count": null,
      "outputs": [
        {
          "output_type": "stream",
          "name": "stdout",
          "text": [
            "hello mohan, welcome in this  programming world\n"
          ]
        }
      ]
    },
    {
      "cell_type": "markdown",
      "source": [
        "#Variable length Arguments"
      ],
      "metadata": {
        "id": "Hg9fDD8zXOu4"
      }
    },
    {
      "cell_type": "markdown",
      "source": [
        "##Positional Arguments\n",
        "**args have multiple arguments**"
      ],
      "metadata": {
        "id": "bZGWzK-vXSuA"
      }
    },
    {
      "cell_type": "code",
      "source": [
        "def print_num(*args):\n",
        "  for numbers in args:\n",
        "    print(numbers)\n",
        "\n",
        "print_num(1, 2, 3, 'hello', 4, 5, 2.3)"
      ],
      "metadata": {
        "colab": {
          "base_uri": "https://localhost:8080/"
        },
        "id": "370s0EFkW_4P",
        "outputId": "fde5cea6-4799-4ad2-c070-006dd5b9d3b1"
      },
      "execution_count": null,
      "outputs": [
        {
          "output_type": "stream",
          "name": "stdout",
          "text": [
            "1\n",
            "2\n",
            "3\n",
            "hello\n",
            "4\n",
            "5\n",
            "2.3\n"
          ]
        }
      ]
    },
    {
      "cell_type": "markdown",
      "source": [
        "##Keyword arguments\n",
        "**kwargs store values in form of key value pair**"
      ],
      "metadata": {
        "id": "Z5SUfuYkYOMB"
      }
    },
    {
      "cell_type": "code",
      "source": [
        "def print_details(**kwargs):\n",
        "  for key, value in kwargs.items():\n",
        "    print(f'{key}:{value}')\n",
        "\n",
        "print_details(name='nitin', age=32, country='india')"
      ],
      "metadata": {
        "colab": {
          "base_uri": "https://localhost:8080/"
        },
        "id": "F6JYNoeXX9J4",
        "outputId": "b00f4bcf-acd9-4c0d-f98b-7ab57ed7881b"
      },
      "execution_count": null,
      "outputs": [
        {
          "output_type": "stream",
          "name": "stdout",
          "text": [
            "name:nitin\n",
            "age:32\n",
            "country:india\n"
          ]
        }
      ]
    },
    {
      "cell_type": "markdown",
      "source": [
        "##Combine\n",
        "**we cannot give positional argumnet after keyword arguments**"
      ],
      "metadata": {
        "id": "mOvL7cW7ZiJS"
      }
    },
    {
      "cell_type": "code",
      "source": [
        "##We can see\n",
        "def print_num(*args, **kwargs):\n",
        "  for values in args:\n",
        "    print(values)\n",
        "\n",
        "  for key, value in kwargs.items():\n",
        "    print(f'{key}:{value}')\n",
        "\n",
        "\n",
        "print_num(1, 2, 3, 'hello', name='nitin', age=32, country='india', 4, 5, 2.3)"
      ],
      "metadata": {
        "colab": {
          "base_uri": "https://localhost:8080/",
          "height": 106
        },
        "id": "kKAZ9z-eZIT6",
        "outputId": "4adf4ddc-9d77-43cd-aed4-83bd147b8f2c"
      },
      "execution_count": null,
      "outputs": [
        {
          "output_type": "error",
          "ename": "SyntaxError",
          "evalue": "positional argument follows keyword argument (<ipython-input-18-3008b1efe1dd>, line 10)",
          "traceback": [
            "\u001b[0;36m  File \u001b[0;32m\"<ipython-input-18-3008b1efe1dd>\"\u001b[0;36m, line \u001b[0;32m10\u001b[0m\n\u001b[0;31m    print_num(1, 2, 3, 'hello', name='nitin', age=32, country='india', 4, 5, 2.3)\u001b[0m\n\u001b[0m                                                                                ^\u001b[0m\n\u001b[0;31mSyntaxError\u001b[0m\u001b[0;31m:\u001b[0m positional argument follows keyword argument\n"
          ]
        }
      ]
    },
    {
      "cell_type": "code",
      "source": [
        "def print_num(*args, **kwargs):\n",
        "  for values in args:\n",
        "    print('positional arguments',values)\n",
        "\n",
        "  for key, value in kwargs.items():\n",
        "    print(f'{key}:{value}')\n",
        "\n",
        "\n",
        "print_num(1, 2, 3, 'hello', name='nitin', age=32, country='india')"
      ],
      "metadata": {
        "colab": {
          "base_uri": "https://localhost:8080/"
        },
        "id": "ANeVHtU9aJxG",
        "outputId": "518a3c2f-1232-4f85-f478-d3a79f76a99f"
      },
      "execution_count": null,
      "outputs": [
        {
          "output_type": "stream",
          "name": "stdout",
          "text": [
            "positional arguments 1\n",
            "positional arguments 2\n",
            "positional arguments 3\n",
            "positional arguments hello\n",
            "name:nitin\n",
            "age:32\n",
            "country:india\n"
          ]
        }
      ]
    },
    {
      "cell_type": "markdown",
      "source": [
        "#Examples"
      ],
      "metadata": {
        "id": "-aqEMrUibtji"
      }
    },
    {
      "cell_type": "markdown",
      "source": [
        "##1. Temperature Conversion"
      ],
      "metadata": {
        "id": "teW_o8y2bzPl"
      }
    },
    {
      "cell_type": "code",
      "source": [
        "def convert_tem(temp, unit):\n",
        "  \"\"\"This function help to converte temperature between celcius to fahrenheit\"\"\"\n",
        "  if unit=='C':\n",
        "    return (temp*9/5)+32\n",
        "  elif unit=='F':\n",
        "    return (temp-32)*5/9\n",
        "  else:\n",
        "    return 'Invalid unit'\n",
        "\n",
        "print(convert_tem(25,'C'))\n",
        "print(convert_tem(66,'F'))\n"
      ],
      "metadata": {
        "colab": {
          "base_uri": "https://localhost:8080/"
        },
        "id": "jqDrJJ8FaNdz",
        "outputId": "836b6fae-3803-47a2-9c77-69f22fb28185"
      },
      "execution_count": null,
      "outputs": [
        {
          "output_type": "stream",
          "name": "stdout",
          "text": [
            "77.0\n",
            "18.88888888888889\n"
          ]
        }
      ]
    },
    {
      "cell_type": "markdown",
      "source": [
        "##2. Password strength checker"
      ],
      "metadata": {
        "id": "vn7Zgh4ydBPf"
      }
    },
    {
      "cell_type": "code",
      "source": [
        "def is_strong_password(password):\n",
        "   if len(password)<8:\n",
        "    return False\n",
        "   if not any(char.isdigit() for char in password):\n",
        "    return False\n",
        "   if not any(char.isupper() for char in password):\n",
        "    return False\n",
        "   if not any(char.islower() for char in password):\n",
        "    return False\n",
        "   if not any(char in '!@#$%^&*()' for char in password):\n",
        "    return False\n",
        "   return True\n",
        "\n",
        "print(is_strong_password('WeakPwd'))\n",
        "print(is_strong_password('MediumPwd123'))\n",
        "print(is_strong_password('StrongPwd!123'))"
      ],
      "metadata": {
        "colab": {
          "base_uri": "https://localhost:8080/"
        },
        "id": "lATJlH75ctoP",
        "outputId": "76a2753e-a3bf-408e-d934-0135b1a728cd"
      },
      "execution_count": null,
      "outputs": [
        {
          "output_type": "stream",
          "name": "stdout",
          "text": [
            "False\n",
            "False\n",
            "True\n"
          ]
        }
      ]
    },
    {
      "cell_type": "markdown",
      "source": [
        "##3. Calculate total cost of items"
      ],
      "metadata": {
        "id": "AwGxgTJyfHNt"
      }
    },
    {
      "cell_type": "code",
      "source": [
        "def calculate_total_cost(cart):\n",
        "  total_cost=0\n",
        "  for item in cart:\n",
        "    total_cost += item['price']*item['quantity']\n",
        "  return total_cost\n",
        "\n",
        "cart=[\n",
        "    {'name':'item1', 'price':5, 'quantity':2},\n",
        "    {'name':'item2', 'price':10, 'quantity':1},\n",
        "    {'name':'item3', 'price':15, 'quantity':3}\n",
        "]\n",
        "\n",
        "total_cost=calculate_total_cost(cart)\n",
        "print(f'Total cost of the cart is ${total_cost}')"
      ],
      "metadata": {
        "colab": {
          "base_uri": "https://localhost:8080/"
        },
        "id": "oFpA-T3AeCuN",
        "outputId": "32c0079f-582c-4975-e725-ad7938d45521"
      },
      "execution_count": null,
      "outputs": [
        {
          "output_type": "stream",
          "name": "stdout",
          "text": [
            "Total cost of the cart is $65\n"
          ]
        }
      ]
    },
    {
      "cell_type": "markdown",
      "source": [
        "##4. Check if a string is Palindrome"
      ],
      "metadata": {
        "id": "_mjuyzdqgFio"
      }
    },
    {
      "cell_type": "code",
      "source": [],
      "metadata": {
        "id": "VosOcdCvf86j"
      },
      "execution_count": null,
      "outputs": []
    }
  ]
}