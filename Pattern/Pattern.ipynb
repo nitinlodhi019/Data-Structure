{
  "nbformat": 4,
  "nbformat_minor": 0,
  "metadata": {
    "colab": {
      "provenance": [],
      "authorship_tag": "ABX9TyOIGXiDYb5Bj7TLQ0NUuALj",
      "include_colab_link": true
    },
    "kernelspec": {
      "name": "python3",
      "display_name": "Python 3"
    },
    "language_info": {
      "name": "python"
    }
  },
  "cells": [
    {
      "cell_type": "markdown",
      "metadata": {
        "id": "view-in-github",
        "colab_type": "text"
      },
      "source": [
        "<a href=\"https://colab.research.google.com/github/nitinlodhi019/Data-Structure/blob/main/Pattern/Pattern.ipynb\" target=\"_parent\"><img src=\"https://colab.research.google.com/assets/colab-badge.svg\" alt=\"Open In Colab\"/></a>"
      ]
    },
    {
      "cell_type": "markdown",
      "source": [
        "#1. Square of side N"
      ],
      "metadata": {
        "id": "gxLeI8Vz1Pdl"
      }
    },
    {
      "cell_type": "code",
      "execution_count": null,
      "metadata": {
        "colab": {
          "base_uri": "https://localhost:8080/"
        },
        "id": "-Zu0nFfU01Ct",
        "outputId": "93aae12f-58e2-44fd-ef12-afbd99d51dc0"
      },
      "outputs": [
        {
          "output_type": "stream",
          "name": "stdout",
          "text": [
            "Enter a number:4\n",
            "****\n",
            "****\n",
            "****\n",
            "****\n"
          ]
        }
      ],
      "source": [
        "def square(n):\n",
        "  for i in range(n):\n",
        "    for j in range(n):\n",
        "      print('*', end='')\n",
        "    print()\n",
        "\n",
        "num = int(input('Enter a number:'))\n",
        "square(num)"
      ]
    },
    {
      "cell_type": "code",
      "source": [
        "def square(n):\n",
        "    square = []\n",
        "    for i in range(n):\n",
        "        square.append('*' * n)\n",
        "    return square\n",
        "\n",
        "square(5)"
      ],
      "metadata": {
        "colab": {
          "base_uri": "https://localhost:8080/"
        },
        "id": "Kil1AfFt9bZf",
        "outputId": "b5103e83-34c5-4e17-a9f1-3683c63c6a0b"
      },
      "execution_count": null,
      "outputs": [
        {
          "output_type": "execute_result",
          "data": {
            "text/plain": [
              "['*****', '*****', '*****', '*****', '*****']"
            ]
          },
          "metadata": {},
          "execution_count": 22
        }
      ]
    },
    {
      "cell_type": "markdown",
      "source": [
        "#2. Hollow square of N"
      ],
      "metadata": {
        "id": "iS7ShERP39AU"
      }
    },
    {
      "cell_type": "code",
      "source": [
        "def hollow_square(n):\n",
        "  for i in range(n):\n",
        "    for j in range(n):\n",
        "      if i==0 or i==n-1 or j==0 or j==n-1:\n",
        "        print('*', end='')\n",
        "      else:\n",
        "        print(' ', end='')\n",
        "    print()\n",
        "\n",
        "num = int(input('Enter a number:'))\n",
        "hollow_square(num)"
      ],
      "metadata": {
        "colab": {
          "base_uri": "https://localhost:8080/"
        },
        "id": "sTZ_ORy91_os",
        "outputId": "fafffda3-d480-4753-f7a4-5dbb0bfb8eae"
      },
      "execution_count": null,
      "outputs": [
        {
          "output_type": "stream",
          "name": "stdout",
          "text": [
            "Enter a number:5\n",
            "*****\n",
            "*   *\n",
            "*   *\n",
            "*   *\n",
            "*****\n"
          ]
        }
      ]
    },
    {
      "cell_type": "code",
      "source": [
        "def hollow_square(n):\n",
        "    square = []\n",
        "    if n == 1:\n",
        "        return ['*']\n",
        "    square.append('*' * n)\n",
        "    for i in range(n - 2):\n",
        "        square.append('*' + ' ' * (n - 2) + '*')\n",
        "    square.append('*' * n)\n",
        "    return square\n",
        "\n",
        "hollow_square(5)"
      ],
      "metadata": {
        "colab": {
          "base_uri": "https://localhost:8080/"
        },
        "id": "VFkmgR6w44Vp",
        "outputId": "1d5b543b-fd61-414b-d234-1ecd291bc660"
      },
      "execution_count": null,
      "outputs": [
        {
          "output_type": "execute_result",
          "data": {
            "text/plain": [
              "['*****', '*   *', '*   *', '*   *', '*****']"
            ]
          },
          "metadata": {},
          "execution_count": 17
        }
      ]
    },
    {
      "cell_type": "markdown",
      "source": [
        "#3. Rectange Pattern"
      ],
      "metadata": {
        "id": "pCJTCTJw-wph"
      }
    },
    {
      "cell_type": "code",
      "source": [
        "def rectangle(n, m):\n",
        "  for i in range(n):\n",
        "    for j in range(m):\n",
        "      print('*', end='')\n",
        "    print()\n",
        "\n",
        "n, m = map(int, input('Enter a number:').split())\n",
        "rectangle(n, m)"
      ],
      "metadata": {
        "colab": {
          "base_uri": "https://localhost:8080/"
        },
        "id": "ly5l6X4d8MZW",
        "outputId": "1bfd2b2a-571b-4fab-ae82-ea1735239411"
      },
      "execution_count": null,
      "outputs": [
        {
          "output_type": "stream",
          "name": "stdout",
          "text": [
            "Enter a number:3 5\n",
            "*****\n",
            "*****\n",
            "*****\n"
          ]
        }
      ]
    },
    {
      "cell_type": "code",
      "source": [
        "def rectangle(n, m):\n",
        "    square = []\n",
        "    for i in range(n):\n",
        "      square.append('*' * m)\n",
        "    return square\n",
        "\n",
        "rectangle(3, 5)"
      ],
      "metadata": {
        "colab": {
          "base_uri": "https://localhost:8080/"
        },
        "id": "HACOjLSR_nAR",
        "outputId": "9164d917-a5b5-49d0-ef05-b4ecfa0414b0"
      },
      "execution_count": null,
      "outputs": [
        {
          "output_type": "execute_result",
          "data": {
            "text/plain": [
              "['*****', '*****', '*****']"
            ]
          },
          "metadata": {},
          "execution_count": 23
        }
      ]
    },
    {
      "cell_type": "markdown",
      "source": [
        "#4. Right Angled Triangle"
      ],
      "metadata": {
        "id": "nEqQaFk32yMO"
      }
    },
    {
      "cell_type": "code",
      "source": [
        "def right_angled_triangle(n):\n",
        "  for i in range(n):\n",
        "    for j in range(i+1):\n",
        "      print('*', end=\"\")\n",
        "    print()\n",
        "\n",
        "n = int(input('Enter a number: '))\n",
        "right_angled_triangle(n)"
      ],
      "metadata": {
        "id": "wAXqJG_KATAi",
        "colab": {
          "base_uri": "https://localhost:8080/"
        },
        "outputId": "e50c38ea-6837-4512-990d-dd989e5074b7"
      },
      "execution_count": null,
      "outputs": [
        {
          "output_type": "stream",
          "name": "stdout",
          "text": [
            "Enter a number: 5\n",
            "*\n",
            "**\n",
            "***\n",
            "****\n",
            "*****\n"
          ]
        }
      ]
    },
    {
      "cell_type": "code",
      "source": [
        "def right_angled_triangle(n):\n",
        "  triangle = []\n",
        "  for i in range(n):\n",
        "    triangle.append('*' * (i+1))\n",
        "  return triangle\n",
        "\n",
        "n = int(input('Enter a number: '))\n",
        "right_angled_triangle(5)\n"
      ],
      "metadata": {
        "colab": {
          "base_uri": "https://localhost:8080/"
        },
        "id": "WXQuTyYf4KPL",
        "outputId": "79620ff9-0f87-4504-9388-802a9381f18f"
      },
      "execution_count": null,
      "outputs": [
        {
          "name": "stdout",
          "output_type": "stream",
          "text": [
            "Enter a number: 5\n"
          ]
        },
        {
          "output_type": "execute_result",
          "data": {
            "text/plain": [
              "['*', '**', '***', '****', '*****']"
            ]
          },
          "metadata": {},
          "execution_count": 8
        }
      ]
    },
    {
      "cell_type": "markdown",
      "source": [
        "#5. Inverted Right Angled Triangle"
      ],
      "metadata": {
        "id": "ymV4H0lt59P7"
      }
    },
    {
      "cell_type": "code",
      "source": [
        "def Inverted_Right_Angled_Triangle(n):\n",
        "  for i in range(n, 0, -1):\n",
        "    for j in range(i):\n",
        "      print(\"*\", end=\"\")\n",
        "    print()\n",
        "\n",
        "n = int(input('Enter a number: '))\n",
        "Inverted_Right_Angled_Triangle(n)"
      ],
      "metadata": {
        "colab": {
          "base_uri": "https://localhost:8080/"
        },
        "id": "GQ5qG7fU48kE",
        "outputId": "15a86fef-48c1-4cc5-b6ec-0f50d87b97d3"
      },
      "execution_count": null,
      "outputs": [
        {
          "output_type": "stream",
          "name": "stdout",
          "text": [
            "Enter a number: 5\n",
            "*****\n",
            "****\n",
            "***\n",
            "**\n",
            "*\n"
          ]
        }
      ]
    },
    {
      "cell_type": "code",
      "source": [
        "def Inverted_Right_Angled_Triangle(n):\n",
        "  triangle = []\n",
        "  for i in range(n, 0, -1):\n",
        "    triangle.append('*' * i)\n",
        "  return triangle\n",
        "\n",
        "n = int(input('Enter a number: '))\n",
        "Inverted_Right_Angled_Triangle(n)"
      ],
      "metadata": {
        "colab": {
          "base_uri": "https://localhost:8080/"
        },
        "id": "TQ2SdjRk6QtR",
        "outputId": "7d752ef5-747b-45af-b18b-2f27f445cce2"
      },
      "execution_count": null,
      "outputs": [
        {
          "name": "stdout",
          "output_type": "stream",
          "text": [
            "Enter a number: 5\n"
          ]
        },
        {
          "output_type": "execute_result",
          "data": {
            "text/plain": [
              "['*****', '****', '***', '**', '*']"
            ]
          },
          "metadata": {},
          "execution_count": 18
        }
      ]
    },
    {
      "cell_type": "markdown",
      "source": [
        "# 6 .Pyramid Pattern"
      ],
      "metadata": {
        "id": "ziqAvvPg9kN0"
      }
    },
    {
      "cell_type": "code",
      "source": [
        "def Pyramid_Pattern(n):\n",
        "  for i in range(n):\n",
        "    star = 2 * i + 1\n",
        "    space = n - i -1\n",
        "    print(' '* space + '*'* star + ' '*space )\n",
        "  print()\n",
        "\n",
        "n = int(input('Enter a number: '))\n",
        "Pyramid_Pattern(n)"
      ],
      "metadata": {
        "colab": {
          "base_uri": "https://localhost:8080/"
        },
        "id": "E_-_7J6_88mX",
        "outputId": "39461b91-ede3-4afb-dfaa-59043aaa709c"
      },
      "execution_count": null,
      "outputs": [
        {
          "output_type": "stream",
          "name": "stdout",
          "text": [
            "Enter a number: 6\n",
            "     *     \n",
            "    ***    \n",
            "   *****   \n",
            "  *******  \n",
            " ********* \n",
            "***********\n",
            "\n"
          ]
        }
      ]
    },
    {
      "cell_type": "code",
      "source": [
        "def Pyramid_Pattern(n):\n",
        "  pattern = []\n",
        "  for i in range(n):\n",
        "    star = 2 * i + 1\n",
        "    space = n - i -1\n",
        "    pattern.append(' '* space + '*'* star + ' '*space )\n",
        "  return pattern\n",
        "\n",
        "n = int(input('Enter a number: '))\n",
        "Pyramid_Pattern(n)"
      ],
      "metadata": {
        "colab": {
          "base_uri": "https://localhost:8080/"
        },
        "id": "Te8BvJn2E0-u",
        "outputId": "92f0d89c-04ad-416c-8207-e4f3cc224b64"
      },
      "execution_count": null,
      "outputs": [
        {
          "name": "stdout",
          "output_type": "stream",
          "text": [
            "Enter a number: 3\n"
          ]
        },
        {
          "output_type": "execute_result",
          "data": {
            "text/plain": [
              "['  *  ', ' *** ', '*****']"
            ]
          },
          "metadata": {},
          "execution_count": 33
        }
      ]
    },
    {
      "cell_type": "markdown",
      "source": [
        "#7. Inverted Pyramid Pattern"
      ],
      "metadata": {
        "id": "KJx9TS1tHEh5"
      }
    },
    {
      "cell_type": "code",
      "source": [
        "def Inverted_Pyramid_Pattern(n):\n",
        "  for i in range(n-1, 0-1, -1):\n",
        "    star = 2 * i + 1\n",
        "    space = n - i -1\n",
        "    print(' '* space + '*'* star + ' '*space )\n",
        "  print()\n",
        "\n",
        "n = int(input('Enter a number: '))\n",
        "Inverted_Pyramid_Pattern(n)"
      ],
      "metadata": {
        "colab": {
          "base_uri": "https://localhost:8080/"
        },
        "id": "Ycozex28G0p1",
        "outputId": "14b5a41a-0e4a-4812-8ebf-d5089cbc5264"
      },
      "execution_count": null,
      "outputs": [
        {
          "output_type": "stream",
          "name": "stdout",
          "text": [
            "Enter a number: 5\n",
            "*********\n",
            " ******* \n",
            "  *****  \n",
            "   ***   \n",
            "    *    \n",
            "\n"
          ]
        }
      ]
    },
    {
      "cell_type": "code",
      "source": [
        "def Inverted_Pyramid_Pattern(n):\n",
        "  pattern = []\n",
        "  for i in range(n-1, -1, -1):\n",
        "    star = 2 * i + 1\n",
        "    space = n - i -1\n",
        "    pattern.append(' '* space + '*'* star + ' '*space )\n",
        "  return pattern\n",
        "\n",
        "n = int(input('Enter a number: '))\n",
        "Inverted_Pyramid_Pattern(n)"
      ],
      "metadata": {
        "colab": {
          "base_uri": "https://localhost:8080/"
        },
        "id": "ozeUhngXHOaG",
        "outputId": "19299954-b9b1-4005-b3a3-4b610e8c1cab"
      },
      "execution_count": null,
      "outputs": [
        {
          "name": "stdout",
          "output_type": "stream",
          "text": [
            "Enter a number: 3\n"
          ]
        },
        {
          "output_type": "execute_result",
          "data": {
            "text/plain": [
              "['*****', ' *** ', '  *  ']"
            ]
          },
          "metadata": {},
          "execution_count": 40
        }
      ]
    },
    {
      "cell_type": "markdown",
      "source": [
        "# 8. Right Angled Triangle with Numbers"
      ],
      "metadata": {
        "id": "6KoP9ZWZHwXp"
      }
    },
    {
      "cell_type": "code",
      "source": [
        "def Right_Angled_Triangle_with_Numbers(n):\n",
        "  for i in range(1, n+1):\n",
        "    for j in range(1, i+1):\n",
        "      print(i, end='')\n",
        "    print()\n",
        "\n",
        "n = int(input('Enter a number: '))\n",
        "Right_Angled_Triangle_with_Numbers(n)"
      ],
      "metadata": {
        "colab": {
          "base_uri": "https://localhost:8080/"
        },
        "id": "P-F5bY0xHfPJ",
        "outputId": "52184087-ea0e-499b-cf3e-6c605e7943de"
      },
      "execution_count": null,
      "outputs": [
        {
          "output_type": "stream",
          "name": "stdout",
          "text": [
            "Enter a number: 4\n",
            "1\n",
            "22\n",
            "333\n",
            "4444\n"
          ]
        }
      ]
    },
    {
      "cell_type": "code",
      "source": [
        "def Right_Angled_Triangle_with_Numbers(n):\n",
        "  arr = []\n",
        "  for i in range(1, n+1):\n",
        "    row = ''.join([str(i)] * i)\n",
        "    arr.append(row)\n",
        "  return arr\n",
        "\n",
        "n = int(input('Enter a number: '))\n",
        "Right_Angled_Triangle_with_Numbers(n)"
      ],
      "metadata": {
        "colab": {
          "base_uri": "https://localhost:8080/"
        },
        "id": "HMn-W0e1Ij38",
        "outputId": "26f4e8e9-4b56-4593-f7d0-042e26f57a33"
      },
      "execution_count": null,
      "outputs": [
        {
          "name": "stdout",
          "output_type": "stream",
          "text": [
            "Enter a number: 6\n"
          ]
        },
        {
          "output_type": "execute_result",
          "data": {
            "text/plain": [
              "['1', '22', '333', '4444', '55555', '666666']"
            ]
          },
          "metadata": {},
          "execution_count": 57
        }
      ]
    },
    {
      "cell_type": "markdown",
      "source": [
        "# 9.Floyds Triangle"
      ],
      "metadata": {
        "id": "m5wXaAkiAWnF"
      }
    },
    {
      "cell_type": "code",
      "source": [
        "def Floyds_Triangle(n):\n",
        "  m = 1\n",
        "  for i in range(1, n+1):\n",
        "    for j in range(i):\n",
        "      print(m, end=' ')\n",
        "      m += 1\n",
        "    print()\n",
        "\n",
        "n = int(input('Enter a number: '))\n",
        "Floyds_Triangle(n)"
      ],
      "metadata": {
        "id": "P1CUbTg3KuMe",
        "colab": {
          "base_uri": "https://localhost:8080/"
        },
        "outputId": "7d365220-0aa4-4488-b112-d1d58b8c55eb"
      },
      "execution_count": 10,
      "outputs": [
        {
          "output_type": "stream",
          "name": "stdout",
          "text": [
            "Enter a number: 8\n",
            "1 \n",
            "2 3 \n",
            "4 5 6 \n",
            "7 8 9 10 \n",
            "11 12 13 14 15 \n",
            "16 17 18 19 20 21 \n",
            "22 23 24 25 26 27 28 \n",
            "29 30 31 32 33 34 35 36 \n"
          ]
        }
      ]
    },
    {
      "cell_type": "code",
      "source": [
        "def Floyds_Triangle(n):\n",
        "  m = 1\n",
        "  store = []\n",
        "  for i in range(1, n+1):\n",
        "    row = []\n",
        "    for j in range(i):\n",
        "      row.append(m)\n",
        "      m += 1\n",
        "    store.append(row)\n",
        "\n",
        "  result=[]\n",
        "  for row in store:\n",
        "    result.append((\" \".join(map(str, row))))\n",
        "\n",
        "  return result\n",
        "\n",
        "n = int(input('Enter a number: '))\n",
        "Floyds_Triangle(n)"
      ],
      "metadata": {
        "colab": {
          "base_uri": "https://localhost:8080/"
        },
        "id": "gnnQ6UpiK9lB",
        "outputId": "1016ca44-522d-41cc-bb17-88b4ffbb8a82"
      },
      "execution_count": 37,
      "outputs": [
        {
          "name": "stdout",
          "output_type": "stream",
          "text": [
            "Enter a number: 3\n"
          ]
        },
        {
          "output_type": "execute_result",
          "data": {
            "text/plain": [
              "['1', '2 3', '4 5 6']"
            ]
          },
          "metadata": {},
          "execution_count": 37
        }
      ]
    },
    {
      "cell_type": "code",
      "source": [
        "inp = int(input(\"Enter no: \"))\n",
        "m = 1\n",
        "list1 = []\n",
        "for i in range(inp):\n",
        "    st = ''\n",
        "    for a in range(i+1):\n",
        "        st += str(m) + \" \"\n",
        "        m += 1\n",
        "    a = st.strip()\n",
        "    list1.append(a)\n",
        "\n",
        "print(list1)"
      ],
      "metadata": {
        "colab": {
          "base_uri": "https://localhost:8080/"
        },
        "id": "O61CrG70LQP-",
        "outputId": "7557bdf3-ffdc-4ff9-aebd-bcf543b81020"
      },
      "execution_count": 38,
      "outputs": [
        {
          "output_type": "stream",
          "name": "stdout",
          "text": [
            "Enter no: 6\n",
            "['1', '2 3', '4 5 6', '7 8 9 10', '11 12 13 14 15', '16 17 18 19 20 21']\n"
          ]
        }
      ]
    },
    {
      "cell_type": "code",
      "source": [],
      "metadata": {
        "id": "ojEl_k4AOdPn"
      },
      "execution_count": null,
      "outputs": []
    }
  ]
}