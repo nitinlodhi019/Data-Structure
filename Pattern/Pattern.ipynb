{
  "nbformat": 4,
  "nbformat_minor": 0,
  "metadata": {
    "colab": {
      "provenance": [],
      "toc_visible": true,
      "authorship_tag": "ABX9TyPF2vRkNwMHi2Hg7Fop8uYW",
      "include_colab_link": true
    },
    "kernelspec": {
      "name": "python3",
      "display_name": "Python 3"
    },
    "language_info": {
      "name": "python"
    }
  },
  "cells": [
    {
      "cell_type": "markdown",
      "metadata": {
        "id": "view-in-github",
        "colab_type": "text"
      },
      "source": [
        "<a href=\"https://colab.research.google.com/github/nitinlodhi019/Data-Structure/blob/main/Pattern/Pattern.ipynb\" target=\"_parent\"><img src=\"https://colab.research.google.com/assets/colab-badge.svg\" alt=\"Open In Colab\"/></a>"
      ]
    },
    {
      "cell_type": "markdown",
      "source": [
        "# 1 . Square of side N"
      ],
      "metadata": {
        "id": "gxLeI8Vz1Pdl"
      }
    },
    {
      "cell_type": "code",
      "execution_count": null,
      "metadata": {
        "colab": {
          "base_uri": "https://localhost:8080/"
        },
        "id": "-Zu0nFfU01Ct",
        "outputId": "93aae12f-58e2-44fd-ef12-afbd99d51dc0"
      },
      "outputs": [
        {
          "output_type": "stream",
          "name": "stdout",
          "text": [
            "Enter a number:4\n",
            "****\n",
            "****\n",
            "****\n",
            "****\n"
          ]
        }
      ],
      "source": [
        "def square(n):\n",
        "  for i in range(n):\n",
        "    for j in range(n):\n",
        "      print('*', end='')\n",
        "    print()\n",
        "\n",
        "num = int(input('Enter a number:'))\n",
        "square(num)"
      ]
    },
    {
      "cell_type": "code",
      "source": [
        "def square(n):\n",
        "    square = []\n",
        "    for i in range(n):\n",
        "        square.append('*' * n)\n",
        "    return square\n",
        "\n",
        "square(5)"
      ],
      "metadata": {
        "colab": {
          "base_uri": "https://localhost:8080/"
        },
        "id": "Kil1AfFt9bZf",
        "outputId": "b5103e83-34c5-4e17-a9f1-3683c63c6a0b"
      },
      "execution_count": null,
      "outputs": [
        {
          "output_type": "execute_result",
          "data": {
            "text/plain": [
              "['*****', '*****', '*****', '*****', '*****']"
            ]
          },
          "metadata": {},
          "execution_count": 22
        }
      ]
    },
    {
      "cell_type": "markdown",
      "source": [
        "# 2 . Hollow square of N"
      ],
      "metadata": {
        "id": "iS7ShERP39AU"
      }
    },
    {
      "cell_type": "code",
      "source": [
        "def hollow_square(n):\n",
        "  for i in range(n):\n",
        "    for j in range(n):\n",
        "      if i==0 or i==n-1 or j==0 or j==n-1:\n",
        "        print('*', end='')\n",
        "      else:\n",
        "        print(' ', end='')\n",
        "    print()\n",
        "\n",
        "num = int(input('Enter a number:'))\n",
        "hollow_square(num)"
      ],
      "metadata": {
        "colab": {
          "base_uri": "https://localhost:8080/"
        },
        "id": "sTZ_ORy91_os",
        "outputId": "fafffda3-d480-4753-f7a4-5dbb0bfb8eae"
      },
      "execution_count": null,
      "outputs": [
        {
          "output_type": "stream",
          "name": "stdout",
          "text": [
            "Enter a number:5\n",
            "*****\n",
            "*   *\n",
            "*   *\n",
            "*   *\n",
            "*****\n"
          ]
        }
      ]
    },
    {
      "cell_type": "code",
      "source": [
        "def hollow_square(n):\n",
        "    square = []\n",
        "    if n == 1:\n",
        "        return ['*']\n",
        "    square.append('*' * n)\n",
        "    for i in range(n - 2):\n",
        "        square.append('*' + ' ' * (n - 2) + '*')\n",
        "    square.append('*' * n)\n",
        "    return square\n",
        "\n",
        "hollow_square(5)"
      ],
      "metadata": {
        "colab": {
          "base_uri": "https://localhost:8080/"
        },
        "id": "VFkmgR6w44Vp",
        "outputId": "1d5b543b-fd61-414b-d234-1ecd291bc660"
      },
      "execution_count": null,
      "outputs": [
        {
          "output_type": "execute_result",
          "data": {
            "text/plain": [
              "['*****', '*   *', '*   *', '*   *', '*****']"
            ]
          },
          "metadata": {},
          "execution_count": 17
        }
      ]
    },
    {
      "cell_type": "markdown",
      "source": [
        "# 3 . Rectange Pattern"
      ],
      "metadata": {
        "id": "pCJTCTJw-wph"
      }
    },
    {
      "cell_type": "code",
      "source": [
        "def rectangle(n, m):\n",
        "  for i in range(n):\n",
        "    for j in range(m):\n",
        "      print('*', end='')\n",
        "    print()\n",
        "\n",
        "n, m = map(int, input('Enter a number:').split())\n",
        "rectangle(n, m)"
      ],
      "metadata": {
        "colab": {
          "base_uri": "https://localhost:8080/"
        },
        "id": "ly5l6X4d8MZW",
        "outputId": "1bfd2b2a-571b-4fab-ae82-ea1735239411"
      },
      "execution_count": null,
      "outputs": [
        {
          "output_type": "stream",
          "name": "stdout",
          "text": [
            "Enter a number:3 5\n",
            "*****\n",
            "*****\n",
            "*****\n"
          ]
        }
      ]
    },
    {
      "cell_type": "code",
      "source": [
        "def rectangle(n, m):\n",
        "    square = []\n",
        "    for i in range(n):\n",
        "      square.append('*' * m)\n",
        "    return square\n",
        "\n",
        "rectangle(3, 5)"
      ],
      "metadata": {
        "colab": {
          "base_uri": "https://localhost:8080/"
        },
        "id": "HACOjLSR_nAR",
        "outputId": "9164d917-a5b5-49d0-ef05-b4ecfa0414b0"
      },
      "execution_count": null,
      "outputs": [
        {
          "output_type": "execute_result",
          "data": {
            "text/plain": [
              "['*****', '*****', '*****']"
            ]
          },
          "metadata": {},
          "execution_count": 23
        }
      ]
    },
    {
      "cell_type": "markdown",
      "source": [
        "# 4 . Left Angled Triangle"
      ],
      "metadata": {
        "id": "nEqQaFk32yMO"
      }
    },
    {
      "cell_type": "code",
      "source": [
        "def Left_angled_triangle(n):\n",
        "  for i in range(n):\n",
        "    for j in range(i+1):\n",
        "      print('*', end=\"\")\n",
        "    print()\n",
        "\n",
        "n = int(input('Enter a number: '))\n",
        "Left_angled_triangle(n)"
      ],
      "metadata": {
        "id": "wAXqJG_KATAi",
        "colab": {
          "base_uri": "https://localhost:8080/"
        },
        "outputId": "a265c021-7a68-4629-81db-af011ac66a1b"
      },
      "execution_count": null,
      "outputs": [
        {
          "output_type": "stream",
          "name": "stdout",
          "text": [
            "Enter a number: 5\n",
            "*\n",
            "**\n",
            "***\n",
            "****\n",
            "*****\n"
          ]
        }
      ]
    },
    {
      "cell_type": "code",
      "source": [
        "def Left_angled_triangle(n):\n",
        "  triangle = []\n",
        "  for i in range(n):\n",
        "    triangle.append('*' * (i+1))\n",
        "  return triangle\n",
        "\n",
        "n = int(input('Enter a number: '))\n",
        "Left_angled_triangle(5)\n"
      ],
      "metadata": {
        "colab": {
          "base_uri": "https://localhost:8080/"
        },
        "id": "WXQuTyYf4KPL",
        "outputId": "dbee73d1-e514-404c-f4c4-80aafa5e7f9a"
      },
      "execution_count": null,
      "outputs": [
        {
          "name": "stdout",
          "output_type": "stream",
          "text": [
            "Enter a number: 5\n"
          ]
        },
        {
          "output_type": "execute_result",
          "data": {
            "text/plain": [
              "['*', '**', '***', '****', '*****']"
            ]
          },
          "metadata": {},
          "execution_count": 6
        }
      ]
    },
    {
      "cell_type": "markdown",
      "source": [
        "# 5 . Inverted Left Angled Triangle"
      ],
      "metadata": {
        "id": "ymV4H0lt59P7"
      }
    },
    {
      "cell_type": "code",
      "source": [
        "def Inverted_Left_Angled_Triangle(n):\n",
        "  for i in range(n, 0, -1):\n",
        "    for j in range(i):\n",
        "      print(\"*\", end=\"\")\n",
        "    print()\n",
        "\n",
        "n = int(input('Enter a number: '))\n",
        "Inverted_Left_Angled_Triangle(n)"
      ],
      "metadata": {
        "colab": {
          "base_uri": "https://localhost:8080/"
        },
        "id": "GQ5qG7fU48kE",
        "outputId": "9297ed56-a6c6-4c83-eb55-951c38600a6e"
      },
      "execution_count": null,
      "outputs": [
        {
          "output_type": "stream",
          "name": "stdout",
          "text": [
            "Enter a number: 5\n",
            "*****\n",
            "****\n",
            "***\n",
            "**\n",
            "*\n"
          ]
        }
      ]
    },
    {
      "cell_type": "code",
      "source": [
        "def Inverted_Left_Angled_Triangle(n):\n",
        "  triangle = []\n",
        "  for i in range(n, 0, -1):\n",
        "    triangle.append('*' * i)\n",
        "  return triangle\n",
        "\n",
        "n = int(input('Enter a number: '))\n",
        "Inverted_Left_Angled_Triangle(n)"
      ],
      "metadata": {
        "colab": {
          "base_uri": "https://localhost:8080/"
        },
        "id": "TQ2SdjRk6QtR",
        "outputId": "6426b384-0c6b-4549-d3b1-b51fc3ffbca7"
      },
      "execution_count": null,
      "outputs": [
        {
          "name": "stdout",
          "output_type": "stream",
          "text": [
            "Enter a number: 5\n"
          ]
        },
        {
          "output_type": "execute_result",
          "data": {
            "text/plain": [
              "['*****', '****', '***', '**', '*']"
            ]
          },
          "metadata": {},
          "execution_count": 4
        }
      ]
    },
    {
      "cell_type": "markdown",
      "source": [
        "# 6 .Pyramid Pattern"
      ],
      "metadata": {
        "id": "ziqAvvPg9kN0"
      }
    },
    {
      "cell_type": "code",
      "source": [
        "def Pyramid_Pattern(n):\n",
        "  for i in range(n):\n",
        "    star = 2 * i + 1\n",
        "    space = n - i -1\n",
        "    print(' '* space + '*'* star + ' '*space )\n",
        "  print()\n",
        "\n",
        "n = int(input('Enter a number: '))\n",
        "Pyramid_Pattern(n)"
      ],
      "metadata": {
        "colab": {
          "base_uri": "https://localhost:8080/"
        },
        "id": "E_-_7J6_88mX",
        "outputId": "39461b91-ede3-4afb-dfaa-59043aaa709c"
      },
      "execution_count": null,
      "outputs": [
        {
          "output_type": "stream",
          "name": "stdout",
          "text": [
            "Enter a number: 6\n",
            "     *     \n",
            "    ***    \n",
            "   *****   \n",
            "  *******  \n",
            " ********* \n",
            "***********\n",
            "\n"
          ]
        }
      ]
    },
    {
      "cell_type": "code",
      "source": [
        "def Pyramid_Pattern(n):\n",
        "  pattern = []\n",
        "  for i in range(n):\n",
        "    star = 2 * i + 1\n",
        "    space = n - i -1\n",
        "    pattern.append(' '* space + '*'* star + ' '*space )\n",
        "  return pattern\n",
        "\n",
        "n = int(input('Enter a number: '))\n",
        "Pyramid_Pattern(n)"
      ],
      "metadata": {
        "colab": {
          "base_uri": "https://localhost:8080/"
        },
        "id": "Te8BvJn2E0-u",
        "outputId": "92f0d89c-04ad-416c-8207-e4f3cc224b64"
      },
      "execution_count": null,
      "outputs": [
        {
          "name": "stdout",
          "output_type": "stream",
          "text": [
            "Enter a number: 3\n"
          ]
        },
        {
          "output_type": "execute_result",
          "data": {
            "text/plain": [
              "['  *  ', ' *** ', '*****']"
            ]
          },
          "metadata": {},
          "execution_count": 33
        }
      ]
    },
    {
      "cell_type": "markdown",
      "source": [
        "\n",
        "#7 . Inverted Pyramid Pattern"
      ],
      "metadata": {
        "id": "KJx9TS1tHEh5"
      }
    },
    {
      "cell_type": "code",
      "source": [
        "def Inverted_Pyramid_Pattern(n):\n",
        "  for i in range(n-1, 0-1, -1):\n",
        "    star = 2 * i + 1\n",
        "    space = n - i -1\n",
        "    print(' '* space + '*'* star + ' '*space )\n",
        "  print()\n",
        "\n",
        "n = int(input('Enter a number: '))\n",
        "Inverted_Pyramid_Pattern(n)"
      ],
      "metadata": {
        "colab": {
          "base_uri": "https://localhost:8080/"
        },
        "id": "Ycozex28G0p1",
        "outputId": "14b5a41a-0e4a-4812-8ebf-d5089cbc5264"
      },
      "execution_count": null,
      "outputs": [
        {
          "output_type": "stream",
          "name": "stdout",
          "text": [
            "Enter a number: 5\n",
            "*********\n",
            " ******* \n",
            "  *****  \n",
            "   ***   \n",
            "    *    \n",
            "\n"
          ]
        }
      ]
    },
    {
      "cell_type": "code",
      "source": [
        "def Inverted_Pyramid_Pattern(n):\n",
        "  pattern = []\n",
        "  for i in range(n-1, -1, -1):\n",
        "    star = 2 * i + 1\n",
        "    space = n - i -1\n",
        "    pattern.append(' '* space + '*'* star + ' '*space )\n",
        "  return pattern\n",
        "\n",
        "n = int(input('Enter a number: '))\n",
        "Inverted_Pyramid_Pattern(n)"
      ],
      "metadata": {
        "colab": {
          "base_uri": "https://localhost:8080/"
        },
        "id": "ozeUhngXHOaG",
        "outputId": "19299954-b9b1-4005-b3a3-4b610e8c1cab"
      },
      "execution_count": null,
      "outputs": [
        {
          "name": "stdout",
          "output_type": "stream",
          "text": [
            "Enter a number: 3\n"
          ]
        },
        {
          "output_type": "execute_result",
          "data": {
            "text/plain": [
              "['*****', ' *** ', '  *  ']"
            ]
          },
          "metadata": {},
          "execution_count": 40
        }
      ]
    },
    {
      "cell_type": "markdown",
      "source": [
        "# 8 . Left Angled Triangle with Numbers"
      ],
      "metadata": {
        "id": "6KoP9ZWZHwXp"
      }
    },
    {
      "cell_type": "code",
      "source": [
        "def Left_Angled_Triangle_with_Numbers(n):\n",
        "  for i in range(1, n+1):\n",
        "    for j in range(1, i+1):\n",
        "      print(i, end='')\n",
        "    print()\n",
        "\n",
        "n = int(input('Enter a number: '))\n",
        "Left_Angled_Triangle_with_Numbers(n)"
      ],
      "metadata": {
        "colab": {
          "base_uri": "https://localhost:8080/"
        },
        "id": "P-F5bY0xHfPJ",
        "outputId": "1254744d-6a92-472b-ca02-4b7465524c59"
      },
      "execution_count": null,
      "outputs": [
        {
          "output_type": "stream",
          "name": "stdout",
          "text": [
            "Enter a number: 4\n",
            "1\n",
            "22\n",
            "333\n",
            "4444\n"
          ]
        }
      ]
    },
    {
      "cell_type": "code",
      "source": [
        "def Left_Angled_Triangle_with_Numbers(n):\n",
        "  arr = []\n",
        "  for i in range(1, n+1):\n",
        "    row = ''.join([str(i)] * i)\n",
        "    arr.append(row)\n",
        "  return arr\n",
        "\n",
        "n = int(input('Enter a number: '))\n",
        "Left_Angled_Triangle_with_Numbers(n)"
      ],
      "metadata": {
        "colab": {
          "base_uri": "https://localhost:8080/"
        },
        "id": "HMn-W0e1Ij38",
        "outputId": "dc4165b9-f9ff-4604-f533-22ccc8a75290"
      },
      "execution_count": null,
      "outputs": [
        {
          "name": "stdout",
          "output_type": "stream",
          "text": [
            "Enter a number: 6\n"
          ]
        },
        {
          "output_type": "execute_result",
          "data": {
            "text/plain": [
              "['1', '22', '333', '4444', '55555', '666666']"
            ]
          },
          "metadata": {},
          "execution_count": 2
        }
      ]
    },
    {
      "cell_type": "markdown",
      "source": [
        "# 9 . Floyds Triangle"
      ],
      "metadata": {
        "id": "m5wXaAkiAWnF"
      }
    },
    {
      "cell_type": "code",
      "source": [
        "def Floyds_Triangle(n):\n",
        "  m = 1\n",
        "  for i in range(1, n+1):\n",
        "    for j in range(i):\n",
        "      print(m, end=' ')\n",
        "      m += 1\n",
        "    print()\n",
        "\n",
        "n = int(input('Enter a number: '))\n",
        "Floyds_Triangle(n)"
      ],
      "metadata": {
        "id": "P1CUbTg3KuMe",
        "colab": {
          "base_uri": "https://localhost:8080/"
        },
        "outputId": "7d365220-0aa4-4488-b112-d1d58b8c55eb"
      },
      "execution_count": null,
      "outputs": [
        {
          "output_type": "stream",
          "name": "stdout",
          "text": [
            "Enter a number: 8\n",
            "1 \n",
            "2 3 \n",
            "4 5 6 \n",
            "7 8 9 10 \n",
            "11 12 13 14 15 \n",
            "16 17 18 19 20 21 \n",
            "22 23 24 25 26 27 28 \n",
            "29 30 31 32 33 34 35 36 \n"
          ]
        }
      ]
    },
    {
      "cell_type": "code",
      "source": [
        "def Floyds_Triangle(n):\n",
        "  m = 1\n",
        "  store = []\n",
        "  for i in range(1, n+1):\n",
        "    row = []\n",
        "    for j in range(i):\n",
        "      row.append(m)\n",
        "      m += 1\n",
        "    store.append(row)\n",
        "\n",
        "  result=[]\n",
        "  for row in store:\n",
        "    result.append((\" \".join(map(str, row))))\n",
        "\n",
        "  return result\n",
        "\n",
        "n = int(input('Enter a number: '))\n",
        "Floyds_Triangle(n)"
      ],
      "metadata": {
        "colab": {
          "base_uri": "https://localhost:8080/"
        },
        "id": "gnnQ6UpiK9lB",
        "outputId": "1016ca44-522d-41cc-bb17-88b4ffbb8a82"
      },
      "execution_count": null,
      "outputs": [
        {
          "name": "stdout",
          "output_type": "stream",
          "text": [
            "Enter a number: 3\n"
          ]
        },
        {
          "output_type": "execute_result",
          "data": {
            "text/plain": [
              "['1', '2 3', '4 5 6']"
            ]
          },
          "metadata": {},
          "execution_count": 37
        }
      ]
    },
    {
      "cell_type": "code",
      "source": [
        "inp = int(input(\"Enter no: \"))\n",
        "m = 1\n",
        "list1 = []\n",
        "for i in range(inp):\n",
        "    st = ''\n",
        "    for a in range(i+1):\n",
        "        st += str(m) + \" \"\n",
        "        m += 1\n",
        "    a = st.strip()\n",
        "    list1.append(a)\n",
        "\n",
        "print(list1)"
      ],
      "metadata": {
        "colab": {
          "base_uri": "https://localhost:8080/"
        },
        "id": "O61CrG70LQP-",
        "outputId": "7557bdf3-ffdc-4ff9-aebd-bcf543b81020"
      },
      "execution_count": null,
      "outputs": [
        {
          "output_type": "stream",
          "name": "stdout",
          "text": [
            "Enter no: 6\n",
            "['1', '2 3', '4 5 6', '7 8 9 10', '11 12 13 14 15', '16 17 18 19 20 21']\n"
          ]
        }
      ]
    },
    {
      "cell_type": "markdown",
      "source": [
        "# 10 . Diamond Pattern"
      ],
      "metadata": {
        "id": "zKlK1NH-raPB"
      }
    },
    {
      "cell_type": "code",
      "source": [
        "def diamond_pattern(n):\n",
        "  space = 2 * n - 1\n",
        "  for i in range(n):\n",
        "    star = 2 * i + 1\n",
        "    remaining_space = (space - star)//2\n",
        "    print(' ' * remaining_space + '*' * star + ' ' * remaining_space)\n",
        "\n",
        "  for j in range(n-1, 0, -1):\n",
        "    star = 2 * j - 1\n",
        "    remaining_space = (space - star)//2\n",
        "    print(' ' * remaining_space + '*' * star + ' ' * remaining_space)\n",
        "\n",
        "n = int(input('Enter a number: '))\n",
        "diamond_pattern(n)\n"
      ],
      "metadata": {
        "id": "ojEl_k4AOdPn",
        "colab": {
          "base_uri": "https://localhost:8080/"
        },
        "outputId": "4061a0bd-aff5-4aae-d19a-4cae0c0f9f01"
      },
      "execution_count": null,
      "outputs": [
        {
          "output_type": "stream",
          "name": "stdout",
          "text": [
            "Enter a number: 3\n",
            "  *  \n",
            " *** \n",
            "*****\n",
            " *** \n",
            "  *  \n"
          ]
        }
      ]
    },
    {
      "cell_type": "code",
      "source": [
        "def diamond_pattern(n):\n",
        "  pattern = []\n",
        "  space = 2 * n - 1\n",
        "  for i in range(n):\n",
        "    star = 2 * i + 1\n",
        "    remaining_space = (space - star)//2\n",
        "    pattern.append(' ' * remaining_space + '*' * star + ' ' * remaining_space)\n",
        "\n",
        "  for j in range(n-1, 0, -1):\n",
        "    star = 2 * j - 1\n",
        "    remaining_space = (space - star)//2\n",
        "    pattern.append(' ' * remaining_space + '*' * star + ' ' * remaining_space)\n",
        "\n",
        "  return pattern\n",
        "\n",
        "n = int(input('Enter a number: '))\n",
        "diamond_pattern(n)\n"
      ],
      "metadata": {
        "colab": {
          "base_uri": "https://localhost:8080/"
        },
        "id": "-r4wXBv4FhvY",
        "outputId": "6e113795-6019-4062-e6ea-0a142ddf00d7"
      },
      "execution_count": null,
      "outputs": [
        {
          "name": "stdout",
          "output_type": "stream",
          "text": [
            "Enter a number: 3\n"
          ]
        },
        {
          "output_type": "execute_result",
          "data": {
            "text/plain": [
              "['  *  ', ' *** ', '*****', ' *** ', '  *  ']"
            ]
          },
          "metadata": {},
          "execution_count": 16
        }
      ]
    },
    {
      "cell_type": "markdown",
      "source": [
        "#11 . Right Angled Triangle II"
      ],
      "metadata": {
        "id": "IycehSNeQvW_"
      }
    },
    {
      "cell_type": "code",
      "source": [
        "def Right_Angled_Triangle(n):\n",
        "  for i in range(1, n+1):\n",
        "    space = n-i\n",
        "    star = i\n",
        "    print(\" \"*space + \"*\"*star)\n",
        "\n",
        "n = int(input('Enter a number: '))\n",
        "Right_Angled_Triangle(n)"
      ],
      "metadata": {
        "id": "NY9MoDcuHUq5",
        "colab": {
          "base_uri": "https://localhost:8080/"
        },
        "outputId": "91f9e3f1-3b08-4eb0-a137-96fc6d648a09"
      },
      "execution_count": null,
      "outputs": [
        {
          "output_type": "stream",
          "name": "stdout",
          "text": [
            "Enter a number: 5\n",
            "    *\n",
            "   **\n",
            "  ***\n",
            " ****\n",
            "*****\n"
          ]
        }
      ]
    },
    {
      "cell_type": "code",
      "source": [
        "def Right_Angled_Triangle(n):\n",
        "  pattern = []\n",
        "  for i in range(1, n+1):\n",
        "    space = n-i\n",
        "    star = i\n",
        "    pattern.append(\" \"*space + \"*\"*star)\n",
        "  return pattern\n",
        "n = int(input('Enter a number: '))\n",
        "Right_Angled_Triangle(n)"
      ],
      "metadata": {
        "colab": {
          "base_uri": "https://localhost:8080/"
        },
        "id": "jNQrtaKtSH3z",
        "outputId": "14612b93-e4e2-440a-ddbc-5788b025cdce"
      },
      "execution_count": null,
      "outputs": [
        {
          "name": "stdout",
          "output_type": "stream",
          "text": [
            "Enter a number: 5\n"
          ]
        },
        {
          "output_type": "execute_result",
          "data": {
            "text/plain": [
              "['    *', '   **', '  ***', ' ****', '*****']"
            ]
          },
          "metadata": {},
          "execution_count": 9
        }
      ]
    },
    {
      "cell_type": "markdown",
      "source": [
        "#12 . Sandglass Pattern"
      ],
      "metadata": {
        "id": "32FRmg5CSlNF"
      }
    },
    {
      "cell_type": "code",
      "source": [
        "def Sandglass_Pattern(n):\n",
        "  space = 2 * n - 1\n",
        "  for i in range(n, 0, -1):\n",
        "    star = 2 * i - 1\n",
        "    remaining_space = (space - star)//2\n",
        "\n",
        "    print(\" \"*remaining_space + \"*\"*star + \" \"*remaining_space)\n",
        "\n",
        "  for j in range(2, n+1):\n",
        "    star = 2 * j - 1\n",
        "    remaining_space = (space - star)//2\n",
        "\n",
        "    print(\" \"*remaining_space + \"*\"*star + \" \"*remaining_space)\n",
        "\n",
        "n = int(input(\"Enter a number: \"))\n",
        "Sandglass_Pattern(n)"
      ],
      "metadata": {
        "colab": {
          "base_uri": "https://localhost:8080/"
        },
        "id": "PrlS5mP3SR94",
        "outputId": "d9a33e52-5c07-4819-cd74-99a2a86afe64"
      },
      "execution_count": null,
      "outputs": [
        {
          "output_type": "stream",
          "name": "stdout",
          "text": [
            "Enter a number: 5\n",
            "*********\n",
            " ******* \n",
            "  *****  \n",
            "   ***   \n",
            "    *    \n",
            "   ***   \n",
            "  *****  \n",
            " ******* \n",
            "*********\n"
          ]
        }
      ]
    },
    {
      "cell_type": "code",
      "source": [
        "def Sandglass_Pattern(n):\n",
        "  pattern = []\n",
        "  space = 2 * n - 1\n",
        "  for i in range(n, 0, -1):\n",
        "    star = 2 * i - 1\n",
        "    remaining_space = (space - star)//2\n",
        "\n",
        "    pattern.append(\" \"*remaining_space + \"*\"*star + \" \"*remaining_space)\n",
        "\n",
        "  for j in range(2, n+1):\n",
        "    star = 2 * j - 1\n",
        "    remaining_space = (space - star)//2\n",
        "\n",
        "    pattern.append(\" \"*remaining_space + \"*\"*star + \" \"*remaining_space)\n",
        "\n",
        "  return pattern\n",
        "\n",
        "n = int(input(\"Enter a number: \"))\n",
        "Sandglass_Pattern(n)"
      ],
      "metadata": {
        "colab": {
          "base_uri": "https://localhost:8080/"
        },
        "id": "tBjllJsGTmfo",
        "outputId": "16c4fb33-b765-495b-f9af-8c3f350eb0d3"
      },
      "execution_count": null,
      "outputs": [
        {
          "name": "stdout",
          "output_type": "stream",
          "text": [
            "Enter a number: 3\n"
          ]
        },
        {
          "output_type": "execute_result",
          "data": {
            "text/plain": [
              "['*****', ' *** ', '  *  ', ' *** ', '*****']"
            ]
          },
          "metadata": {},
          "execution_count": 18
        }
      ]
    },
    {
      "cell_type": "markdown",
      "source": [
        "# 13 . Hollow Right Triangle"
      ],
      "metadata": {
        "id": "6LcUudbRnd3s"
      }
    },
    {
      "cell_type": "code",
      "source": [
        "def Hollow_Right_Triangle(n):\n",
        "  for i in range(1, n+1):\n",
        "    if i==1 or i==n:\n",
        "      print('*'*i)\n",
        "    else:\n",
        "      print('*', end='')\n",
        "      print(' '*(i-2), end='')\n",
        "      print('*')\n",
        "\n",
        "n = int(input('enter a number: '))\n",
        "Hollow_Right_Triangle(n)"
      ],
      "metadata": {
        "colab": {
          "base_uri": "https://localhost:8080/"
        },
        "id": "fwKCbl1monnM",
        "outputId": "5b633e8b-6b12-4167-cda5-06dc01fd506a"
      },
      "execution_count": 6,
      "outputs": [
        {
          "output_type": "stream",
          "name": "stdout",
          "text": [
            "enter a number: 5\n",
            "*\n",
            "**\n",
            "* *\n",
            "*  *\n",
            "*****\n"
          ]
        }
      ]
    },
    {
      "cell_type": "code",
      "source": [
        "def Hollow_Right_Triangle(n):\n",
        "  pattern = []\n",
        "  for i in range(1, n+1):\n",
        "    if i==1 or i==n:\n",
        "      pattern.append('*'*i)\n",
        "    else:\n",
        "      pattern.append('*' + ' '*(i-2) + '*')\n",
        "  return pattern\n",
        "\n",
        "n = int(input('enter a number: '))\n",
        "Hollow_Right_Triangle(n)"
      ],
      "metadata": {
        "colab": {
          "base_uri": "https://localhost:8080/"
        },
        "id": "blYaOKdPosUw",
        "outputId": "04dfa39b-18e3-4448-ec12-231a2b61ad57"
      },
      "execution_count": 7,
      "outputs": [
        {
          "name": "stdout",
          "output_type": "stream",
          "text": [
            "enter a number: 5\n"
          ]
        },
        {
          "output_type": "execute_result",
          "data": {
            "text/plain": [
              "['*', '**', '* *', '*  *', '*****']"
            ]
          },
          "metadata": {},
          "execution_count": 7
        }
      ]
    },
    {
      "cell_type": "markdown",
      "source": [
        "#14 . Hollow Inverted Right Triangle"
      ],
      "metadata": {
        "id": "ZOjG4-ApqUzk"
      }
    },
    {
      "cell_type": "code",
      "source": [
        "def Hollow_Right_Triangle(n):\n",
        "  for i in range(n, 0, -1):\n",
        "    if i==1 or i==n:\n",
        "      print('*'*i)\n",
        "    else:\n",
        "      print('*', end='')\n",
        "      print(' '*(i-2), end='')\n",
        "      print('*')\n",
        "\n",
        "n = int(input('enter a number: '))\n",
        "Hollow_Right_Triangle(n)"
      ],
      "metadata": {
        "colab": {
          "base_uri": "https://localhost:8080/"
        },
        "id": "5zCghM74qGip",
        "outputId": "8d22f2fc-7700-43ab-c294-8d2a1505f43d"
      },
      "execution_count": 10,
      "outputs": [
        {
          "output_type": "stream",
          "name": "stdout",
          "text": [
            "enter a number: 5\n",
            "*****\n",
            "*  *\n",
            "* *\n",
            "**\n",
            "*\n"
          ]
        }
      ]
    },
    {
      "cell_type": "code",
      "source": [
        "def Hollow_Right_Triangle(n):\n",
        "  pattern = []\n",
        "  for i in range(n, 0, -1):\n",
        "    if i==1 or i==n:\n",
        "      pattern.append('*'*i)\n",
        "    else:\n",
        "      pattern.append('*'+ ' '*(i-2) +'*')\n",
        "  return pattern\n",
        "\n",
        "n = int(input('enter a number: '))\n",
        "Hollow_Right_Triangle(n)"
      ],
      "metadata": {
        "colab": {
          "base_uri": "https://localhost:8080/"
        },
        "id": "A3V93oqjqfDS",
        "outputId": "170e4a0c-aa01-4157-b93d-cf544d4194c9"
      },
      "execution_count": 12,
      "outputs": [
        {
          "name": "stdout",
          "output_type": "stream",
          "text": [
            "enter a number: 6\n"
          ]
        },
        {
          "output_type": "execute_result",
          "data": {
            "text/plain": [
              "['******', '*   *', '*  *', '* *', '**', '*']"
            ]
          },
          "metadata": {},
          "execution_count": 12
        }
      ]
    },
    {
      "cell_type": "markdown",
      "source": [
        "#15 . Number Pyramid Pattern"
      ],
      "metadata": {
        "id": "O1ML01Dlrolv"
      }
    },
    {
      "cell_type": "code",
      "source": [
        "def Number_Pyramid_Pattern(n):\n",
        "  for i in range(1, n+1):\n",
        "    space = n - i\n",
        "    print(\" \"* space, end='')\n",
        "    for j in range(1, i+1):\n",
        "      if i==n and j == n:\n",
        "        print(j)\n",
        "      else:\n",
        "        print(j, end = ' ')\n",
        "    print(\" \"*(space-1))\n",
        "\n",
        "n = int(input('Enter a number: '))\n",
        "Number_Pyramid_Pattern(n)"
      ],
      "metadata": {
        "colab": {
          "base_uri": "https://localhost:8080/"
        },
        "id": "h_MNJol4q46x",
        "outputId": "57374a3b-6a64-4bf6-fc0c-cba24027ac20"
      },
      "execution_count": 17,
      "outputs": [
        {
          "output_type": "stream",
          "name": "stdout",
          "text": [
            "Enter a number: 5\n",
            "    1    \n",
            "   1 2   \n",
            "  1 2 3  \n",
            " 1 2 3 4 \n",
            "1 2 3 4 5\n",
            "\n"
          ]
        }
      ]
    },
    {
      "cell_type": "code",
      "source": [
        "def Number_Pyramid_Pattern(n):\n",
        "  pattern = []\n",
        "  for i in range(1, n+1):\n",
        "    space = n - i\n",
        "    strr = ''\n",
        "    strr += \" \"* space\n",
        "    for j in range(1, i+1):\n",
        "      if i==n and j == n:\n",
        "        strr += str(j)\n",
        "      else:\n",
        "        strr += str(j) + ' '\n",
        "    strr += \" \"*(space-1)\n",
        "    pattern.append(strr)\n",
        "\n",
        "  return pattern\n",
        "\n",
        "n = int(input('Enter a number: '))\n",
        "Number_Pyramid_Pattern(n)"
      ],
      "metadata": {
        "colab": {
          "base_uri": "https://localhost:8080/"
        },
        "id": "W2nv3RzT8OVo",
        "outputId": "f64b5283-7d24-4442-8a6a-d1cec0ee0e31"
      },
      "execution_count": 16,
      "outputs": [
        {
          "name": "stdout",
          "output_type": "stream",
          "text": [
            "Enter a number: 5\n"
          ]
        },
        {
          "output_type": "execute_result",
          "data": {
            "text/plain": [
              "['    1    ', '   1 2   ', '  1 2 3  ', ' 1 2 3 4 ', '1 2 3 4 5']"
            ]
          },
          "metadata": {},
          "execution_count": 16
        }
      ]
    },
    {
      "cell_type": "code",
      "source": [
        ""
      ],
      "metadata": {
        "id": "S4sJKjb9_UvY"
      },
      "execution_count": null,
      "outputs": []
    }
  ]
}