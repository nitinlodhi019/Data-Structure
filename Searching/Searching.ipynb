{
  "nbformat": 4,
  "nbformat_minor": 0,
  "metadata": {
    "colab": {
      "provenance": [],
      "authorship_tag": "ABX9TyMF4ACCx+Hy+YLnCTf3xrbH",
      "include_colab_link": true
    },
    "kernelspec": {
      "name": "python3",
      "display_name": "Python 3"
    },
    "language_info": {
      "name": "python"
    }
  },
  "cells": [
    {
      "cell_type": "markdown",
      "metadata": {
        "id": "view-in-github",
        "colab_type": "text"
      },
      "source": [
        "<a href=\"https://colab.research.google.com/github/nitinlodhi019/Data-Structure/blob/main/Searching/Searching.ipynb\" target=\"_parent\"><img src=\"https://colab.research.google.com/assets/colab-badge.svg\" alt=\"Open In Colab\"/></a>"
      ]
    },
    {
      "cell_type": "markdown",
      "source": [
        "# 1. Linear Search"
      ],
      "metadata": {
        "id": "VhDMQpzBctl8"
      }
    },
    {
      "cell_type": "code",
      "execution_count": null,
      "metadata": {
        "colab": {
          "base_uri": "https://localhost:8080/"
        },
        "id": "NWOy0hCFa9cM",
        "outputId": "6e1763c9-924d-4384-a624-189da1deac2a"
      },
      "outputs": [
        {
          "output_type": "stream",
          "name": "stdout",
          "text": [
            "1\n",
            "index is:  Not found\n"
          ]
        }
      ],
      "source": [
        "def linear_search(arr, target):\n",
        "  size=len(arr)\n",
        "  for index in range(size):\n",
        "    if arr[index]==target:\n",
        "      return index\n",
        "\n",
        "  return 'Not found'\n",
        "\n",
        "my_list = [121,4445,677,3,43,566,77,8]\n",
        "target = int(input())\n",
        "result = linear_search(my_list, target)\n",
        "print('index is: ',result)"
      ]
    },
    {
      "cell_type": "markdown",
      "source": [
        "#2. Binary Search"
      ],
      "metadata": {
        "id": "NQ_Un6mLe98P"
      }
    },
    {
      "cell_type": "code",
      "source": [
        "def binary_search(arr, target):\n",
        "  low = 0\n",
        "  high = len(arr)-1\n",
        "  mid = (low+high)//2\n",
        "  while low<=high:\n",
        "    if arr[mid]== target:\n",
        "      return mid\n",
        "    elif arr[mid]<target:\n",
        "      low = mid+1\n",
        "    else:\n",
        "      high = mid-1\n",
        "    mid = (low+high)//2\n",
        "  return 'Not Found'\n",
        "\n",
        "\n",
        "my_list = [1,2,3,4,5,6,7,8,9,10]\n",
        "target = int(input())\n",
        "result = binary_search(my_list, target)\n",
        "print('Index is: ',result)"
      ],
      "metadata": {
        "colab": {
          "base_uri": "https://localhost:8080/"
        },
        "id": "_boF5V8Yj13e",
        "outputId": "737692f0-e20c-4ca3-d8ee-daaae47f14aa"
      },
      "execution_count": 1,
      "outputs": [
        {
          "output_type": "stream",
          "name": "stdout",
          "text": [
            "10\n",
            "Index is:  9\n"
          ]
        }
      ]
    },
    {
      "cell_type": "code",
      "source": [],
      "metadata": {
        "id": "oSM5N8UXkuw6"
      },
      "execution_count": null,
      "outputs": []
    }
  ]
}