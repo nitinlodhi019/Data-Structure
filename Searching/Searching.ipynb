{
  "nbformat": 4,
  "nbformat_minor": 0,
  "metadata": {
    "colab": {
      "provenance": [],
      "authorship_tag": "ABX9TyPGgmFF1lm0hJFsIIqh4HrS",
      "include_colab_link": true
    },
    "kernelspec": {
      "name": "python3",
      "display_name": "Python 3"
    },
    "language_info": {
      "name": "python"
    }
  },
  "cells": [
    {
      "cell_type": "markdown",
      "metadata": {
        "id": "view-in-github",
        "colab_type": "text"
      },
      "source": [
        "<a href=\"https://colab.research.google.com/github/nitinlodhi019/Data-Structure/blob/main/Searching/Searching.ipynb\" target=\"_parent\"><img src=\"https://colab.research.google.com/assets/colab-badge.svg\" alt=\"Open In Colab\"/></a>"
      ]
    },
    {
      "cell_type": "markdown",
      "source": [
        "# 1. Linear Search"
      ],
      "metadata": {
        "id": "VhDMQpzBctl8"
      }
    },
    {
      "cell_type": "code",
      "execution_count": null,
      "metadata": {
        "colab": {
          "base_uri": "https://localhost:8080/"
        },
        "id": "NWOy0hCFa9cM",
        "outputId": "6e1763c9-924d-4384-a624-189da1deac2a"
      },
      "outputs": [
        {
          "output_type": "stream",
          "name": "stdout",
          "text": [
            "1\n",
            "index is:  Not found\n"
          ]
        }
      ],
      "source": [
        "def linear_search(arr, target):\n",
        "  size=len(arr)\n",
        "  for index in range(size):\n",
        "    if arr[index]==target:\n",
        "      return index\n",
        "\n",
        "  return 'Not found'\n",
        "\n",
        "my_list = [121,4445,677,3,43,566,77,8]\n",
        "target = int(input())\n",
        "result = linear_search(my_list, target)\n",
        "print('index is: ',result)"
      ]
    },
    {
      "cell_type": "markdown",
      "source": [
        "#2. Binary Search"
      ],
      "metadata": {
        "id": "NQ_Un6mLe98P"
      }
    },
    {
      "cell_type": "code",
      "source": [
        "def binary_search(arr, target):\n",
        "  low = 0\n",
        "  high = len(arr)-1\n",
        "  mid = (low+high)//2\n",
        "  while low<=high:\n",
        "    if arr[mid]== target:\n",
        "      return mid\n",
        "    elif arr[mid]<target:\n",
        "      low = mid+1\n",
        "    else:\n",
        "      high = mid-1\n",
        "    mid = (low+high)//2\n",
        "  return 'Not Found'\n",
        "\n",
        "\n",
        "my_list = [1,2,3,4,5,6,7,8,9,10]\n",
        "target = int(input())\n",
        "result = binary_search(my_list, target)\n",
        "print('Index is: ',result)"
      ],
      "metadata": {
        "colab": {
          "base_uri": "https://localhost:8080/"
        },
        "id": "_boF5V8Yj13e",
        "outputId": "737692f0-e20c-4ca3-d8ee-daaae47f14aa"
      },
      "execution_count": null,
      "outputs": [
        {
          "output_type": "stream",
          "name": "stdout",
          "text": [
            "10\n",
            "Index is:  9\n"
          ]
        }
      ]
    },
    {
      "cell_type": "markdown",
      "source": [
        "# Practice"
      ],
      "metadata": {
        "id": "rP6Ev-mF5t8D"
      }
    },
    {
      "cell_type": "markdown",
      "source": [
        "##LS1"
      ],
      "metadata": {
        "id": "XuaIgq7L5yem"
      }
    },
    {
      "cell_type": "code",
      "source": [
        "def linear_search(arr, target):\n",
        "  for i in range(len(arr)):\n",
        "    if arr[i] == target:\n",
        "      return i\n",
        "\n",
        "  return -1\n",
        "\n",
        "arr = list(map(int, input(\"Enter List: \").split()))\n",
        "target = int(input(\"Enter Target: \"))\n",
        "linear_search(arr, target)"
      ],
      "metadata": {
        "id": "oSM5N8UXkuw6",
        "outputId": "7f5ee6c1-5d37-49d1-bbf9-0ca2318ede20",
        "colab": {
          "base_uri": "https://localhost:8080/"
        }
      },
      "execution_count": 5,
      "outputs": [
        {
          "name": "stdout",
          "output_type": "stream",
          "text": [
            "Enter List: 243 6 324 87 0 343\n",
            "Enter Target: 0\n"
          ]
        },
        {
          "output_type": "execute_result",
          "data": {
            "text/plain": [
              "4"
            ]
          },
          "metadata": {},
          "execution_count": 5
        }
      ]
    },
    {
      "cell_type": "code",
      "source": [],
      "metadata": {
        "id": "_5fOGAIE6VAv"
      },
      "execution_count": null,
      "outputs": []
    }
  ]
}