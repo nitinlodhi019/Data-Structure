{
  "nbformat": 4,
  "nbformat_minor": 0,
  "metadata": {
    "colab": {
      "provenance": [],
      "authorship_tag": "ABX9TyMdXNaW/PIs3qfhunC26CWc",
      "include_colab_link": true
    },
    "kernelspec": {
      "name": "python3",
      "display_name": "Python 3"
    },
    "language_info": {
      "name": "python"
    }
  },
  "cells": [
    {
      "cell_type": "markdown",
      "metadata": {
        "id": "view-in-github",
        "colab_type": "text"
      },
      "source": [
        "<a href=\"https://colab.research.google.com/github/nitinlodhi019/Data-Structure/blob/main/Searching/Binary_Search_Practice_Question.ipynb\" target=\"_parent\"><img src=\"https://colab.research.google.com/assets/colab-badge.svg\" alt=\"Open In Colab\"/></a>"
      ]
    },
    {
      "cell_type": "markdown",
      "source": [
        "# 1 . Count negative numbers in a sorted matrix"
      ],
      "metadata": {
        "id": "EoteFz9W7Q3h"
      }
    },
    {
      "cell_type": "code",
      "source": [
        "# O(m X n)\n",
        "def count(arr):\n",
        "  count = 0\n",
        "  for i in range(len(arr)):\n",
        "    for j in range(len(arr)):\n",
        "      if arr[i][j] < 0:\n",
        "        count += 1\n",
        "  return count\n",
        "\n",
        "twoD = [[1, -2, 3, -4], [4, -7, 0, 8], [-1, 2, 3, 4], [5, -6, 7, -8]]\n",
        "count(twoD)"
      ],
      "metadata": {
        "colab": {
          "base_uri": "https://localhost:8080/"
        },
        "id": "BQ54tp6v8sSF",
        "outputId": "74713ac5-8b89-4e6f-c027-ff9cb518b5e4"
      },
      "execution_count": null,
      "outputs": [
        {
          "output_type": "execute_result",
          "data": {
            "text/plain": [
              "6"
            ]
          },
          "metadata": {},
          "execution_count": 10
        }
      ]
    },
    {
      "cell_type": "code",
      "source": [
        "# O(m X logn)\n",
        "def countNegatives(grid):\n",
        "    def count_negatives_in_row(row):\n",
        "        left, right = 0, len(row)\n",
        "        while left < right:\n",
        "            mid = (left + right) // 2\n",
        "            if row[mid] < 0:\n",
        "                right = mid\n",
        "            else:\n",
        "                left = mid + 1\n",
        "        return len(row) - left\n",
        "\n",
        "    total_negatives = 0\n",
        "    for row in grid:\n",
        "        total_negatives += count_negatives_in_row(row)\n",
        "\n",
        "    return total_negatives\n",
        "\n",
        "grid = [[4, 3, 2, 1], [3, 2, 1, -1], [1, 1, -1, -2], [-1, -1, -2, -3]]\n",
        "countNegatives(grid)"
      ],
      "metadata": {
        "colab": {
          "base_uri": "https://localhost:8080/"
        },
        "id": "NBwhde-ErazO",
        "outputId": "3cf6dc7f-902b-4787-fae9-b5b941aa4fc5"
      },
      "execution_count": null,
      "outputs": [
        {
          "output_type": "execute_result",
          "data": {
            "text/plain": [
              "7"
            ]
          },
          "metadata": {},
          "execution_count": 1
        }
      ]
    },
    {
      "cell_type": "markdown",
      "source": [
        "# 3 . Find First and Last Position of Element in Sorted Array"
      ],
      "metadata": {
        "id": "12mGV9utrBU4"
      }
    },
    {
      "cell_type": "code",
      "source": [
        "def searchRange(nums, target):\n",
        "    def find_left(nums, target):\n",
        "        left, right = 0, len(nums) - 1\n",
        "        while left <= right:\n",
        "            mid = (left + right) // 2\n",
        "            if nums[mid] >= target:\n",
        "                right = mid - 1\n",
        "            else:\n",
        "                left = mid + 1\n",
        "        if left < len(nums) and nums[left] == target:\n",
        "            return left\n",
        "        return -1\n",
        "\n",
        "    def find_right(nums, target):\n",
        "        left, right = 0, len(nums) - 1\n",
        "        while left <= right:\n",
        "            mid = (left + right) // 2\n",
        "            if nums[mid] <= target:\n",
        "                left = mid + 1\n",
        "            else:\n",
        "                right = mid - 1\n",
        "\n",
        "        if right >= 0 and nums[right] == target:\n",
        "            return right\n",
        "        return -1\n",
        "\n",
        "    return [find_left(nums, target), find_right(nums, target)]\n",
        "\n",
        "\n",
        "nums = [5, 7, 7, 8, 8, 10]\n",
        "print(searchRange(nums, 8))\n"
      ],
      "metadata": {
        "colab": {
          "base_uri": "https://localhost:8080/"
        },
        "id": "ItXj5ZyfxbyY",
        "outputId": "a84eecd3-0aad-4617-f294-c8147b5dda78"
      },
      "execution_count": null,
      "outputs": [
        {
          "output_type": "stream",
          "name": "stdout",
          "text": [
            "[3, 4]\n"
          ]
        }
      ]
    },
    {
      "cell_type": "code",
      "source": [],
      "metadata": {
        "id": "Zy_B3wKc6AI1"
      },
      "execution_count": null,
      "outputs": []
    }
  ]
}